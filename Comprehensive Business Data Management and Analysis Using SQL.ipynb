{
 "cells": [
  {
   "cell_type": "markdown",
   "id": "0e93f464-7adb-4d2c-8f7c-470bc352b57b",
   "metadata": {},
   "source": [
    "# Comprehensive Business Data Management and Analysis Using SQL"
   ]
  },
  {
   "cell_type": "markdown",
   "id": "e1a0063a",
   "metadata": {},
   "source": [
    "# Table of Contents\n",
    "\n",
    "0. [Introduction](#introduction)\n",
    "\n",
    "1. [Customer Relationship Management (CRM) EDA](#crm-eda)\n",
    "   - [a. Load and Display Data](#crm-load-display)\n",
    "   - [b. Interactions per Customer](#crm-interactions)\n",
    "   - [c. Total Purchase Amount per Customer](#crm-purchase-amount)\n",
    "   - [d. Scenario 1: Customers with the Most Interactions](#crm-scenario1)\n",
    "   - [e. Scenario 2: Total Sales Amount per Customer](#crm-scenario2)\n",
    "   - [f. Scenario 3: Customers Who Have Not Made Any Purchases](#crm-scenario3)\n",
    "   - [g. Scenario 4: Average Number of Interactions per Customer](#crm-scenario4)\n",
    "   - [h. Scenario 5: Top 5 Customers by Total Purchase Amount](#crm-scenario5)\n",
    "\n",
    "2. [Inventory Management EDA](#inventory-eda)\n",
    "   - [a. Load and Display Data](#inventory-load-display)\n",
    "   - [b. Stock Levels](#inventory-stock-levels)\n",
    "   - [c. Total Sales per Product](#inventory-sales-per-product)\n",
    "   - [d. Scenario 1: Products Low in Stock](#inventory-scenario1)\n",
    "   - [e. Scenario 2: Total Value of Current Inventory](#inventory-scenario2)\n",
    "   - [f. Scenario 3: Top 3 Best-Selling Products](#inventory-scenario3)\n",
    "   - [g. Scenario 4: Products That Have Never Been Sold](#inventory-scenario4)\n",
    "   - [h. Scenario 5: Total Number of Orders by Status](#inventory-scenario5)\n",
    "\n",
    "3. [Financial Reporting EDA](#financial-eda)\n",
    "   - [a. Load and Display Data](#financial-load-display)\n",
    "   - [b. Revenue vs Expenses](#financial-revenue-expenses)\n",
    "   - [c. Net Income Over Time](#financial-net-income)\n",
    "   - [d. Scenario 1: Net Income for Each Month](#financial-scenario1)\n",
    "   - [e. Scenario 2: Latest Balance Sheet Report](#financial-scenario2)\n",
    "   - [f. Scenario 3: Month with the Highest Revenue](#financial-scenario3)\n",
    "   - [g. Scenario 4: Total Cash Inflow and Outflow](#financial-scenario4)\n",
    "   - [h. Scenario 5: Budgeted vs. Actual Expenses](#financial-scenario5)\n",
    "\n",
    "4. [Human Resources Management EDA](#hr-eda)\n",
    "   - [a. Load and Display Data](#hr-load-display)\n",
    "   - [b. Salary Distribution](#hr-salary-distribution)\n",
    "   - [c. Performance Ratings](#hr-performance-ratings)\n",
    "   - [d. Scenario 1: Employees and Their Departments](#hr-scenario1)\n",
    "   - [e. Scenario 2: Average Salary in Each Department](#hr-scenario2)\n",
    "   - [f. Scenario 3: Employees with Salaries Above the Company Average](#hr-scenario3)\n",
    "   - [g. Scenario 4: Employees Who Have Completed Specific Training Programs](#hr-scenario4)\n",
    "   - [h. Scenario 5: Highest Performance Rating Received by Each Employee](#hr-scenario5)\n",
    "\n",
    "5. [Website Analytics EDA](#website-eda)\n",
    "   - [a. Load and Display Data](#website-load-display)\n",
    "   - [b. Session Duration by Page](#website-session-duration)\n",
    "   - [c. Bounce Rate by Page](#website-bounce-rate)\n",
    "   - [d. Scenario 1: Most Visited Pages](#website-scenario1)\n",
    "   - [e. Scenario 2: Average Session Duration for Each Page](#website-scenario2)\n",
    "   - [f. Scenario 3: Conversion Rate for Each Marketing Campaign](#website-scenario3)\n",
    "   - [g. Scenario 4: Bounce Rate for Each Page](#website-scenario4)\n",
    "   - [h. Scenario 5: Top Referrers Bringing Traffic to the Website](#website-scenario5)\n",
    "\n"
   ]
  },
  {
   "cell_type": "markdown",
   "id": "6862dd91",
   "metadata": {},
   "source": [
    "## Introduction\n",
    "\n",
    "In today's data-driven world, businesses rely heavily on managing and analyzing vast amounts of data to make informed decisions. From customer management to financial reporting, inventory control, and website analytics, structured data plays a crucial role in various business divisions. SQL (Structured Query Language) is a powerful tool that enables organizations to manage, manipulate, and analyze large datasets effectively.\n",
    "\n",
    "This project, \"Comprehensive Business Data Management and Analysis Using SQL\" aims to demonstrate how SQL can be used to handle different aspects of business data. We will create a fictional company database for TechCorp and simulate five critical business divisions:\n",
    "\n",
    "- Customer Relationship Management (CRM)\n",
    "- Inventory Management (IM)\n",
    "- Financial Reporting (FR)\n",
    "- Human Resources Management (HRM)\n",
    "- Website Analytics (WA)\n",
    "Each division will contain tables that hold relevant business data, such as customer records, product inventories, financial statements, employee data, and website traffic metrics. This project will also demonstrate how to insert data into these tables, perform exploratory data analysis (EDA), and answer specific scenario-based questions using SQL queries.\n",
    "\n",
    "The project is built using Jupyter Notebook, where SQL commands are executed and outputs are displayed in a well-organized tabular format for ease of understanding. Visualizations are also incorporated to enhance the data analysis process.\n",
    "\n",
    "Through this project, We demonstrate hands-on experience in:\n",
    "\n",
    "- Creating and managing SQL databases.\n",
    "- Inserting and querying data from multiple tables.\n",
    "- Performing exploratory data analysis on business-related datasets.\n",
    "- Addressing real-world business scenarios using SQL.\n",
    "This project provides a holistic view of how businesses can leverage SQL for data-driven decision-making across various divisions, offering insights that support operational efficiency, strategic planning, and improved customer experience."
   ]
  },
  {
   "cell_type": "code",
   "execution_count": 1,
   "id": "163d58ba",
   "metadata": {},
   "outputs": [],
   "source": [
    "import sqlite3\n",
    "import pandas as pd\n",
    "from tabulate import tabulate"
   ]
  },
  {
   "cell_type": "code",
   "execution_count": 2,
   "id": "6536bd24",
   "metadata": {},
   "outputs": [],
   "source": [
    "# Connect to SQLite database\n",
    "conn = sqlite3.connect('crm.db')\n",
    "cursor = conn.cursor()\n",
    "\n"
   ]
  },
  {
   "cell_type": "markdown",
   "id": "3386b7ac",
   "metadata": {},
   "source": [
    "<a id=\"crm-eda\"></a>\n",
    "## Create table Customer Relationship Management (CRM) "
   ]
  },
  {
   "cell_type": "code",
   "execution_count": null,
   "id": "74b7a4e6",
   "metadata": {},
   "outputs": [],
   "source": [
    "# Create tables\n",
    "cursor.execute('''\n",
    "CREATE TABLE IF NOT EXISTS Customers (\n",
    "    customer_id INTEGER PRIMARY KEY,\n",
    "    first_name TEXT NOT NULL,\n",
    "    last_name TEXT NOT NULL,\n",
    "    email TEXT NOT NULL,\n",
    "    phone TEXT,\n",
    "    address TEXT\n",
    ")\n",
    "''')\n",
    "\n",
    "cursor.execute('''\n",
    "CREATE TABLE IF NOT EXISTS Interactions (\n",
    "    interaction_id INTEGER PRIMARY KEY,\n",
    "    customer_id INTEGER,\n",
    "    interaction_date TEXT,\n",
    "    interaction_type TEXT,\n",
    "    notes TEXT,\n",
    "    FOREIGN KEY (customer_id) REFERENCES Customers(customer_id)\n",
    ")\n",
    "''')\n",
    "\n",
    "cursor.execute('''\n",
    "CREATE TABLE IF NOT EXISTS Sales (\n",
    "    sale_id INTEGER PRIMARY KEY,\n",
    "    customer_id INTEGER,\n",
    "    purchase_date TEXT,\n",
    "    purchase_amount REAL,\n",
    "    FOREIGN KEY (customer_id) REFERENCES Customers(customer_id)\n",
    ")\n",
    "''')\n"
   ]
  },
  {
   "cell_type": "code",
   "execution_count": 4,
   "id": "86cec1fc",
   "metadata": {},
   "outputs": [
    {
     "data": {
      "text/plain": [
       "<sqlite3.Cursor at 0x2285e6fda40>"
      ]
     },
     "execution_count": 4,
     "metadata": {},
     "output_type": "execute_result"
    }
   ],
   "source": [
    "\n",
    "# Insert data into tables\n",
    "cursor.executemany('''\n",
    "INSERT INTO Customers (first_name, last_name, email, phone, address) VALUES (?, ?, ?, ?, ?)\n",
    "''', [\n",
    "    ('John', 'Doe', 'john.doe@example.com', '555-1234', '123 Elm St'),\n",
    "    ('Jane', 'Smith', 'jane.smith@example.com', '555-5678', '456 Oak St'),\n",
    "    ('Alice', 'Johnson', 'alice.johnson@example.com', '555-8765', '789 Pine St'),\n",
    "    ('Bob', 'Brown', 'bob.brown@example.com', '555-4321', '321 Maple St'),\n",
    "    ('Charlie', 'Davis', 'charlie.davis@example.com', '555-6789', '654 Birch St'),\n",
    "    ('Dana', 'White', 'dana.white@example.com', '555-9876', '987 Cedar St')\n",
    "])\n",
    "\n",
    "cursor.executemany('''\n",
    "INSERT INTO Interactions (customer_id, interaction_date, interaction_type, notes) VALUES (?, ?, ?, ?)\n",
    "''', [\n",
    "    (1, '2023-01-01', 'Email', 'Sent welcome email'),\n",
    "    (2, '2023-01-02', 'Phone', 'Discussed product details'),\n",
    "    (3, '2023-01-03', 'Meeting', 'Presented product demo'),\n",
    "    (4, '2023-01-04', 'Email', 'Sent follow-up email'),\n",
    "    (5, '2023-01-05', 'Phone', 'Resolved issue'),\n",
    "    (6, '2023-01-06', 'Meeting', 'Negotiated contract')\n",
    "])\n",
    "\n",
    "cursor.executemany('''\n",
    "INSERT INTO Sales (customer_id, purchase_date, purchase_amount) VALUES (?, ?, ?)\n",
    "''', [\n",
    "    (1, '2023-01-15', 100.0),\n",
    "    (2, '2023-01-16', 150.0),\n",
    "    (3, '2023-01-17', 200.0),\n",
    "    (4, '2023-01-18', 250.0),\n",
    "    (5, '2023-01-19', 300.0),\n",
    "    (6, '2023-01-20', 350.0)\n",
    "])\n"
   ]
  },
  {
   "cell_type": "markdown",
   "id": "e214c8c6",
   "metadata": {},
   "source": [
    "<a id=\"crm-load-display\"></a>\n",
    "### a. Load and Display Data"
   ]
  },
  {
   "cell_type": "code",
   "execution_count": 5,
   "id": "7752756a",
   "metadata": {},
   "outputs": [
    {
     "name": "stdout",
     "output_type": "stream",
     "text": [
      "Customers:\n",
      "+----+---------------+--------------+-------------+---------------------------+----------+--------------+\n",
      "|    |   customer_id | first_name   | last_name   | email                     | phone    | address      |\n",
      "+====+===============+==============+=============+===========================+==========+==============+\n",
      "|  0 |             1 | John         | Doe         | john.doe@example.com      | 555-1234 | 123 Elm St   |\n",
      "+----+---------------+--------------+-------------+---------------------------+----------+--------------+\n",
      "|  1 |             2 | Jane         | Smith       | jane.smith@example.com    | 555-5678 | 456 Oak St   |\n",
      "+----+---------------+--------------+-------------+---------------------------+----------+--------------+\n",
      "|  2 |             3 | Alice        | Johnson     | alice.johnson@example.com | 555-8765 | 789 Pine St  |\n",
      "+----+---------------+--------------+-------------+---------------------------+----------+--------------+\n",
      "|  3 |             4 | Bob          | Brown       | bob.brown@example.com     | 555-4321 | 321 Maple St |\n",
      "+----+---------------+--------------+-------------+---------------------------+----------+--------------+\n",
      "|  4 |             5 | Charlie      | Davis       | charlie.davis@example.com | 555-6789 | 654 Birch St |\n",
      "+----+---------------+--------------+-------------+---------------------------+----------+--------------+\n",
      "|  5 |             6 | Dana         | White       | dana.white@example.com    | 555-9876 | 987 Cedar St |\n",
      "+----+---------------+--------------+-------------+---------------------------+----------+--------------+\n",
      "\n",
      "Interactions:\n",
      "+----+------------------+---------------+--------------------+--------------------+---------------------------+\n",
      "|    |   interaction_id |   customer_id | interaction_date   | interaction_type   | notes                     |\n",
      "+====+==================+===============+====================+====================+===========================+\n",
      "|  0 |                1 |             1 | 2023-01-01         | Email              | Sent welcome email        |\n",
      "+----+------------------+---------------+--------------------+--------------------+---------------------------+\n",
      "|  1 |                2 |             2 | 2023-01-02         | Phone              | Discussed product details |\n",
      "+----+------------------+---------------+--------------------+--------------------+---------------------------+\n",
      "|  2 |                3 |             3 | 2023-01-03         | Meeting            | Presented product demo    |\n",
      "+----+------------------+---------------+--------------------+--------------------+---------------------------+\n",
      "|  3 |                4 |             4 | 2023-01-04         | Email              | Sent follow-up email      |\n",
      "+----+------------------+---------------+--------------------+--------------------+---------------------------+\n",
      "|  4 |                5 |             5 | 2023-01-05         | Phone              | Resolved issue            |\n",
      "+----+------------------+---------------+--------------------+--------------------+---------------------------+\n",
      "|  5 |                6 |             6 | 2023-01-06         | Meeting            | Negotiated contract       |\n",
      "+----+------------------+---------------+--------------------+--------------------+---------------------------+\n",
      "\n",
      "Sales:\n",
      "+----+-----------+---------------+-----------------+-------------------+\n",
      "|    |   sale_id |   customer_id | purchase_date   |   purchase_amount |\n",
      "+====+===========+===============+=================+===================+\n",
      "|  0 |         1 |             1 | 2023-01-15      |               100 |\n",
      "+----+-----------+---------------+-----------------+-------------------+\n",
      "|  1 |         2 |             2 | 2023-01-16      |               150 |\n",
      "+----+-----------+---------------+-----------------+-------------------+\n",
      "|  2 |         3 |             3 | 2023-01-17      |               200 |\n",
      "+----+-----------+---------------+-----------------+-------------------+\n",
      "|  3 |         4 |             4 | 2023-01-18      |               250 |\n",
      "+----+-----------+---------------+-----------------+-------------------+\n",
      "|  4 |         5 |             5 | 2023-01-19      |               300 |\n",
      "+----+-----------+---------------+-----------------+-------------------+\n",
      "|  5 |         6 |             6 | 2023-01-20      |               350 |\n",
      "+----+-----------+---------------+-----------------+-------------------+\n"
     ]
    }
   ],
   "source": [
    "# Commit the changes\n",
    "conn.commit()\n",
    "\n",
    "# Query data\n",
    "df_customers = pd.read_sql_query(\"SELECT * FROM Customers\", conn)\n",
    "df_interactions = pd.read_sql_query(\"SELECT * FROM Interactions\", conn)\n",
    "df_sales = pd.read_sql_query(\"SELECT * FROM Sales\", conn)\n",
    "\n",
    "print(\"Customers:\")\n",
    "print(tabulate(df_customers, headers='keys', tablefmt='grid'))\n",
    "\n",
    "print(\"\\nInteractions:\")\n",
    "print(tabulate(df_interactions, headers='keys', tablefmt='grid'))\n",
    "\n",
    "print(\"\\nSales:\")\n",
    "print(tabulate(df_sales, headers='keys', tablefmt='grid'))\n"
   ]
  },
  {
   "cell_type": "markdown",
   "id": "e1db80c3",
   "metadata": {},
   "source": [
    "<a id=\"crm-interactions\"></a>\n",
    "### b. Interactions per Customer\n"
   ]
  },
  {
   "cell_type": "code",
   "execution_count": 6,
   "id": "b176e900",
   "metadata": {},
   "outputs": [],
   "source": [
    "# Connect to SQLite database\n",
    "conn = sqlite3.connect('inventory.db')\n",
    "cursor = conn.cursor()\n"
   ]
  },
  {
   "cell_type": "code",
   "execution_count": 7,
   "id": "51b48488",
   "metadata": {},
   "outputs": [
    {
     "data": {
      "text/plain": [
       "<sqlite3.Cursor at 0x2285ec58f80>"
      ]
     },
     "execution_count": 7,
     "metadata": {},
     "output_type": "execute_result"
    }
   ],
   "source": [
    "# Create tables\n",
    "cursor.execute('''\n",
    "CREATE TABLE IF NOT EXISTS Inventory (\n",
    "    product_id INTEGER PRIMARY KEY,\n",
    "    product_name TEXT NOT NULL,\n",
    "    stock_quantity INTEGER,\n",
    "    location TEXT,\n",
    "    supplier TEXT\n",
    ")\n",
    "''')\n",
    "\n",
    "cursor.execute('''\n",
    "CREATE TABLE IF NOT EXISTS Orders (\n",
    "    order_id INTEGER PRIMARY KEY,\n",
    "    product_id INTEGER,\n",
    "    order_date TEXT,\n",
    "    order_quantity INTEGER,\n",
    "    order_status TEXT,\n",
    "    supplier TEXT,\n",
    "    FOREIGN KEY (product_id) REFERENCES Inventory(product_id)\n",
    ")\n",
    "''')\n",
    "\n",
    "cursor.execute('''\n",
    "CREATE TABLE IF NOT EXISTS Sales (\n",
    "    sale_id INTEGER PRIMARY KEY,\n",
    "    product_id INTEGER,\n",
    "    sale_date TEXT,\n",
    "    quantity_sold INTEGER,\n",
    "    sale_price REAL,\n",
    "    FOREIGN KEY (product_id) REFERENCES Inventory(product_id)\n",
    ")\n",
    "''')\n"
   ]
  },
  {
   "cell_type": "code",
   "execution_count": 8,
   "id": "e45577dc",
   "metadata": {},
   "outputs": [
    {
     "data": {
      "text/plain": [
       "<sqlite3.Cursor at 0x2285ec58f80>"
      ]
     },
     "execution_count": 8,
     "metadata": {},
     "output_type": "execute_result"
    }
   ],
   "source": [
    "# Insert data into tables\n",
    "cursor.executemany('''\n",
    "INSERT INTO Inventory (product_name, stock_quantity, location, supplier) VALUES (?, ?, ?, ?)\n",
    "''', [\n",
    "    ('Widget A', 100, 'Aisle 1', 'Supplier X'),\n",
    "    ('Widget B', 200, 'Aisle 2', 'Supplier Y'),\n",
    "    ('Widget C', 300, 'Aisle 3', 'Supplier Z'),\n",
    "    ('Widget D', 150, 'Aisle 4', 'Supplier X'),\n",
    "    ('Widget E', 250, 'Aisle 5', 'Supplier Y'),\n",
    "    ('Widget F', 350, 'Aisle 6', 'Supplier Z')\n",
    "])\n",
    "\n",
    "cursor.executemany('''\n",
    "INSERT INTO Orders (product_id, order_date, order_quantity, order_status, supplier) VALUES (?, ?, ?, ?, ?)\n",
    "''', [\n",
    "    (1, '2023-01-01', 50, 'Pending', 'Supplier X'),\n",
    "    (2, '2023-01-02', 100, 'Completed', 'Supplier Y'),\n",
    "    (3, '2023-01-03', 75, 'Pending', 'Supplier Z'),\n",
    "    (4, '2023-01-04', 125, 'Completed', 'Supplier X'),\n",
    "    (5, '2023-01-05', 60, 'Pending', 'Supplier Y'),\n",
    "    (6, '2023-01-06', 80, 'Completed', 'Supplier Z')\n",
    "])\n",
    "\n",
    "cursor.executemany('''\n",
    "INSERT INTO Sales (product_id, sale_date, quantity_sold, sale_price) VALUES (?, ?, ?, ?)\n",
    "''', [\n",
    "    (1, '2023-01-15', 10, 5.0),\n",
    "    (2, '2023-01-16', 20, 6.0),\n",
    "    (3, '2023-01-17', 30, 7.0),\n",
    "    (4, '2023-01-18', 40, 8.0),\n",
    "    (5, '2023-01-19', 25, 5.5),\n",
    "    (6, '2023-01-20', 35, 6.5)\n",
    "])\n",
    "\n"
   ]
  },
  {
   "cell_type": "code",
   "execution_count": 9,
   "id": "4929c248",
   "metadata": {},
   "outputs": [
    {
     "name": "stdout",
     "output_type": "stream",
     "text": [
      "Inventory:\n",
      "+----+--------------+----------------+------------------+------------+------------+\n",
      "|    |   product_id | product_name   |   stock_quantity | location   | supplier   |\n",
      "+====+==============+================+==================+============+============+\n",
      "|  0 |            1 | Widget A       |              100 | Aisle 1    | Supplier X |\n",
      "+----+--------------+----------------+------------------+------------+------------+\n",
      "|  1 |            2 | Widget B       |              200 | Aisle 2    | Supplier Y |\n",
      "+----+--------------+----------------+------------------+------------+------------+\n",
      "|  2 |            3 | Widget C       |              300 | Aisle 3    | Supplier Z |\n",
      "+----+--------------+----------------+------------------+------------+------------+\n",
      "|  3 |            4 | Widget D       |              150 | Aisle 4    | Supplier X |\n",
      "+----+--------------+----------------+------------------+------------+------------+\n",
      "|  4 |            5 | Widget E       |              250 | Aisle 5    | Supplier Y |\n",
      "+----+--------------+----------------+------------------+------------+------------+\n",
      "|  5 |            6 | Widget F       |              350 | Aisle 6    | Supplier Z |\n",
      "+----+--------------+----------------+------------------+------------+------------+\n",
      "\n",
      "Orders:\n",
      "+----+------------+--------------+--------------+------------------+----------------+------------+\n",
      "|    |   order_id |   product_id | order_date   |   order_quantity | order_status   | supplier   |\n",
      "+====+============+==============+==============+==================+================+============+\n",
      "|  0 |          1 |            1 | 2023-01-01   |               50 | Pending        | Supplier X |\n",
      "+----+------------+--------------+--------------+------------------+----------------+------------+\n",
      "|  1 |          2 |            2 | 2023-01-02   |              100 | Completed      | Supplier Y |\n",
      "+----+------------+--------------+--------------+------------------+----------------+------------+\n",
      "|  2 |          3 |            3 | 2023-01-03   |               75 | Pending        | Supplier Z |\n",
      "+----+------------+--------------+--------------+------------------+----------------+------------+\n",
      "|  3 |          4 |            4 | 2023-01-04   |              125 | Completed      | Supplier X |\n",
      "+----+------------+--------------+--------------+------------------+----------------+------------+\n",
      "|  4 |          5 |            5 | 2023-01-05   |               60 | Pending        | Supplier Y |\n",
      "+----+------------+--------------+--------------+------------------+----------------+------------+\n",
      "|  5 |          6 |            6 | 2023-01-06   |               80 | Completed      | Supplier Z |\n",
      "+----+------------+--------------+--------------+------------------+----------------+------------+\n",
      "\n",
      "Sales:\n",
      "+----+-----------+--------------+-------------+-----------------+--------------+\n",
      "|    |   sale_id |   product_id | sale_date   |   quantity_sold |   sale_price |\n",
      "+====+===========+==============+=============+=================+==============+\n",
      "|  0 |         1 |            1 | 2023-01-15  |              10 |          5   |\n",
      "+----+-----------+--------------+-------------+-----------------+--------------+\n",
      "|  1 |         2 |            2 | 2023-01-16  |              20 |          6   |\n",
      "+----+-----------+--------------+-------------+-----------------+--------------+\n",
      "|  2 |         3 |            3 | 2023-01-17  |              30 |          7   |\n",
      "+----+-----------+--------------+-------------+-----------------+--------------+\n",
      "|  3 |         4 |            4 | 2023-01-18  |              40 |          8   |\n",
      "+----+-----------+--------------+-------------+-----------------+--------------+\n",
      "|  4 |         5 |            5 | 2023-01-19  |              25 |          5.5 |\n",
      "+----+-----------+--------------+-------------+-----------------+--------------+\n",
      "|  5 |         6 |            6 | 2023-01-20  |              35 |          6.5 |\n",
      "+----+-----------+--------------+-------------+-----------------+--------------+\n"
     ]
    }
   ],
   "source": [
    "# Commit the changes\n",
    "conn.commit()\n",
    "\n",
    "# Query data\n",
    "df_inventory = pd.read_sql_query(\"SELECT * FROM Inventory\", conn)\n",
    "df_orders = pd.read_sql_query(\"SELECT * FROM Orders\", conn)\n",
    "df_sales = pd.read_sql_query(\"SELECT * FROM Sales\", conn)\n",
    "\n",
    "print(\"Inventory:\")\n",
    "print(tabulate(df_inventory, headers='keys', tablefmt='grid'))\n",
    "\n",
    "print(\"\\nOrders:\")\n",
    "print(tabulate(df_orders, headers='keys', tablefmt='grid'))\n",
    "\n",
    "print(\"\\nSales:\")\n",
    "print(tabulate(df_sales, headers='keys', tablefmt='grid'))\n"
   ]
  },
  {
   "cell_type": "markdown",
   "id": "54764399",
   "metadata": {},
   "source": [
    "<a id=\"crm-purchase-amount\"></a>\n",
    "### 3.  Financial Reporting\n"
   ]
  },
  {
   "cell_type": "code",
   "execution_count": 10,
   "id": "7bdc1df4",
   "metadata": {},
   "outputs": [],
   "source": [
    "# Connect to SQLite database\n",
    "conn = sqlite3.connect('finance.db')\n",
    "cursor = conn.cursor()\n"
   ]
  },
  {
   "cell_type": "code",
   "execution_count": 11,
   "id": "78de456b",
   "metadata": {},
   "outputs": [
    {
     "data": {
      "text/plain": [
       "<sqlite3.Cursor at 0x2285ec74340>"
      ]
     },
     "execution_count": 11,
     "metadata": {},
     "output_type": "execute_result"
    }
   ],
   "source": [
    "# Create tables\n",
    "cursor.execute('''\n",
    "CREATE TABLE IF NOT EXISTS Financials (\n",
    "    financial_id INTEGER PRIMARY KEY,\n",
    "    report_date TEXT,\n",
    "    revenue REAL,\n",
    "    expenses REAL,\n",
    "    net_income REAL,\n",
    "    description TEXT\n",
    ")\n",
    "''')\n",
    "\n",
    "cursor.execute('''\n",
    "CREATE TABLE IF NOT EXISTS BalanceSheet (\n",
    "    balance_id INTEGER PRIMARY KEY,\n",
    "    report_date TEXT,\n",
    "    assets REAL,\n",
    "    liabilities REAL,\n",
    "    equity REAL,\n",
    "    description TEXT\n",
    ")\n",
    "''')\n",
    "\n",
    "cursor.execute('''\n",
    "CREATE TABLE IF NOT EXISTS CashFlow (\n",
    "    cashflow_id INTEGER PRIMARY KEY,\n",
    "    transaction_date TEXT,\n",
    "    transaction_type TEXT,\n",
    "    amount REAL,\n",
    "    description TEXT\n",
    ")\n",
    "''')\n"
   ]
  },
  {
   "cell_type": "code",
   "execution_count": 12,
   "id": "acf86d97",
   "metadata": {},
   "outputs": [
    {
     "data": {
      "text/plain": [
       "<sqlite3.Cursor at 0x2285ec74340>"
      ]
     },
     "execution_count": 12,
     "metadata": {},
     "output_type": "execute_result"
    }
   ],
   "source": [
    "# Insert data into tables\n",
    "cursor.executemany('''\n",
    "INSERT INTO Financials (report_date, revenue, expenses, net_income, description) VALUES (?, ?, ?, ?, ?)\n",
    "''', [\n",
    "    ('2023-01-01', 10000.0, 5000.0, 5000.0, 'January Report'),\n",
    "    ('2023-02-01', 15000.0, 7000.0, 8000.0, 'February Report'),\n",
    "    ('2023-03-01', 20000.0, 10000.0, 10000.0, 'March Report'),\n",
    "    ('2023-04-01', 25000.0, 12000.0, 13000.0, 'April Report'),\n",
    "    ('2023-05-01', 30000.0, 15000.0, 15000.0, 'May Report'),\n",
    "    ('2023-06-01', 35000.0, 17000.0, 18000.0, 'June Report')\n",
    "])\n",
    "\n",
    "cursor.executemany('''\n",
    "INSERT INTO BalanceSheet (report_date, assets, liabilities, equity, description) VALUES (?, ?, ?, ?, ?)\n",
    "''', [\n",
    "    ('2023-01-01', 50000.0, 20000.0, 30000.0, 'Balance Sheet Jan'),\n",
    "    ('2023-02-01', 60000.0, 25000.0, 35000.0, 'Balance Sheet Feb'),\n",
    "    ('2023-03-01', 70000.0, 30000.0, 40000.0, 'Balance Sheet Mar'),\n",
    "    ('2023-04-01', 80000.0, 35000.0, 45000.0, 'Balance Sheet Apr'),\n",
    "    ('2023-05-01', 90000.0, 40000.0, 50000.0, 'Balance Sheet May'),\n",
    "    ('2023-06-01', 100000.0, 45000.0, 55000.0, 'Balance Sheet Jun')\n",
    "])\n",
    "\n",
    "cursor.executemany('''\n",
    "INSERT INTO CashFlow (transaction_date, transaction_type, amount, description) VALUES (?, ?, ?, ?)\n",
    "''', [\n",
    "    ('2023-01-01', 'Inflow', 1000.0, 'Cash Inflow Jan 1'),\n",
    "    ('2023-01-02', 'Outflow', 500.0, 'Cash Outflow Jan 2'),\n",
    "    ('2023-01-03', 'Inflow', 1500.0, 'Cash Inflow Jan 3'),\n",
    "    ('2023-01-04', 'Outflow', 700.0, 'Cash Outflow Jan 4'),\n",
    "    ('2023-01-05', 'Inflow', 2000.0, 'Cash Inflow Jan 5'),\n",
    "    ('2023-01-06', 'Outflow', 1000.0, 'Cash Outflow Jan 6')\n",
    "])\n",
    "\n"
   ]
  },
  {
   "cell_type": "code",
   "execution_count": 13,
   "id": "0ac2d04c",
   "metadata": {},
   "outputs": [
    {
     "name": "stdout",
     "output_type": "stream",
     "text": [
      "Financials:\n",
      "+----+----------------+---------------+-----------+------------+--------------+-----------------+\n",
      "|    |   financial_id | report_date   |   revenue |   expenses |   net_income | description     |\n",
      "+====+================+===============+===========+============+==============+=================+\n",
      "|  0 |              1 | 2023-01-01    |     10000 |       5000 |         5000 | January Report  |\n",
      "+----+----------------+---------------+-----------+------------+--------------+-----------------+\n",
      "|  1 |              2 | 2023-02-01    |     15000 |       7000 |         8000 | February Report |\n",
      "+----+----------------+---------------+-----------+------------+--------------+-----------------+\n",
      "|  2 |              3 | 2023-03-01    |     20000 |      10000 |        10000 | March Report    |\n",
      "+----+----------------+---------------+-----------+------------+--------------+-----------------+\n",
      "|  3 |              4 | 2023-04-01    |     25000 |      12000 |        13000 | April Report    |\n",
      "+----+----------------+---------------+-----------+------------+--------------+-----------------+\n",
      "|  4 |              5 | 2023-05-01    |     30000 |      15000 |        15000 | May Report      |\n",
      "+----+----------------+---------------+-----------+------------+--------------+-----------------+\n",
      "|  5 |              6 | 2023-06-01    |     35000 |      17000 |        18000 | June Report     |\n",
      "+----+----------------+---------------+-----------+------------+--------------+-----------------+\n",
      "\n",
      "Balance Sheet:\n",
      "+----+--------------+---------------+----------+---------------+----------+-------------------+\n",
      "|    |   balance_id | report_date   |   assets |   liabilities |   equity | description       |\n",
      "+====+==============+===============+==========+===============+==========+===================+\n",
      "|  0 |            1 | 2023-01-01    |    50000 |         20000 |    30000 | Balance Sheet Jan |\n",
      "+----+--------------+---------------+----------+---------------+----------+-------------------+\n",
      "|  1 |            2 | 2023-02-01    |    60000 |         25000 |    35000 | Balance Sheet Feb |\n",
      "+----+--------------+---------------+----------+---------------+----------+-------------------+\n",
      "|  2 |            3 | 2023-03-01    |    70000 |         30000 |    40000 | Balance Sheet Mar |\n",
      "+----+--------------+---------------+----------+---------------+----------+-------------------+\n",
      "|  3 |            4 | 2023-04-01    |    80000 |         35000 |    45000 | Balance Sheet Apr |\n",
      "+----+--------------+---------------+----------+---------------+----------+-------------------+\n",
      "|  4 |            5 | 2023-05-01    |    90000 |         40000 |    50000 | Balance Sheet May |\n",
      "+----+--------------+---------------+----------+---------------+----------+-------------------+\n",
      "|  5 |            6 | 2023-06-01    |   100000 |         45000 |    55000 | Balance Sheet Jun |\n",
      "+----+--------------+---------------+----------+---------------+----------+-------------------+\n",
      "\n",
      "Cash Flow:\n",
      "+----+---------------+--------------------+--------------------+----------+--------------------+\n",
      "|    |   cashflow_id | transaction_date   | transaction_type   |   amount | description        |\n",
      "+====+===============+====================+====================+==========+====================+\n",
      "|  0 |             1 | 2023-01-01         | Inflow             |     1000 | Cash Inflow Jan 1  |\n",
      "+----+---------------+--------------------+--------------------+----------+--------------------+\n",
      "|  1 |             2 | 2023-01-02         | Outflow            |      500 | Cash Outflow Jan 2 |\n",
      "+----+---------------+--------------------+--------------------+----------+--------------------+\n",
      "|  2 |             3 | 2023-01-03         | Inflow             |     1500 | Cash Inflow Jan 3  |\n",
      "+----+---------------+--------------------+--------------------+----------+--------------------+\n",
      "|  3 |             4 | 2023-01-04         | Outflow            |      700 | Cash Outflow Jan 4 |\n",
      "+----+---------------+--------------------+--------------------+----------+--------------------+\n",
      "|  4 |             5 | 2023-01-05         | Inflow             |     2000 | Cash Inflow Jan 5  |\n",
      "+----+---------------+--------------------+--------------------+----------+--------------------+\n",
      "|  5 |             6 | 2023-01-06         | Outflow            |     1000 | Cash Outflow Jan 6 |\n",
      "+----+---------------+--------------------+--------------------+----------+--------------------+\n"
     ]
    }
   ],
   "source": [
    "# Commit the changes\n",
    "conn.commit()\n",
    "\n",
    "# Query data\n",
    "df_financials = pd.read_sql_query(\"SELECT * FROM Financials\", conn)\n",
    "df_balance_sheet = pd.read_sql_query(\"SELECT * FROM BalanceSheet\", conn)\n",
    "df_cash_flow = pd.read_sql_query(\"SELECT * FROM CashFlow\", conn)\n",
    "\n",
    "print(\"Financials:\")\n",
    "print(tabulate(df_financials, headers='keys', tablefmt='grid'))\n",
    "\n",
    "print(\"\\nBalance Sheet:\")\n",
    "print(tabulate(df_balance_sheet, headers='keys', tablefmt='grid'))\n",
    "\n",
    "print(\"\\nCash Flow:\")\n",
    "print(tabulate(df_cash_flow, headers='keys', tablefmt='grid'))\n"
   ]
  },
  {
   "cell_type": "markdown",
   "id": "59e5fcd7",
   "metadata": {},
   "source": [
    "## 4. Human Resources Management"
   ]
  },
  {
   "cell_type": "code",
   "execution_count": 14,
   "id": "cce77f16",
   "metadata": {},
   "outputs": [],
   "source": [
    "# Connect to SQLite database\n",
    "conn = sqlite3.connect('hr.db')\n",
    "cursor = conn.cursor()\n"
   ]
  },
  {
   "cell_type": "code",
   "execution_count": 15,
   "id": "87a453fc",
   "metadata": {},
   "outputs": [
    {
     "data": {
      "text/plain": [
       "<sqlite3.Cursor at 0x2285eca41f0>"
      ]
     },
     "execution_count": 15,
     "metadata": {},
     "output_type": "execute_result"
    }
   ],
   "source": [
    "# Create tables\n",
    "cursor.execute('''\n",
    "CREATE TABLE IF NOT EXISTS Employees (\n",
    "    employee_id INTEGER PRIMARY KEY,\n",
    "    first_name TEXT NOT NULL,\n",
    "    last_name TEXT NOT NULL,\n",
    "    department TEXT,\n",
    "    job_title TEXT,\n",
    "    salary REAL,\n",
    "    hire_date TEXT\n",
    ")\n",
    "''')\n",
    "\n",
    "cursor.execute('''\n",
    "CREATE TABLE IF NOT EXISTS Payroll (\n",
    "    payroll_id INTEGER PRIMARY KEY,\n",
    "    employee_id INTEGER,\n",
    "    salary REAL,\n",
    "    tax REAL,\n",
    "    net_pay REAL,\n",
    "    FOREIGN KEY (employee_id) REFERENCES Employees(employee_id)\n",
    ")\n",
    "''')\n",
    "\n",
    "cursor.execute('''\n",
    "CREATE TABLE IF NOT EXISTS PerformanceReviews (\n",
    "    review_id INTEGER PRIMARY KEY,\n",
    "    employee_id INTEGER,\n",
    "    review_date TEXT,\n",
    "    performance_rating INTEGER,\n",
    "    FOREIGN KEY (employee_id) REFERENCES Employees(employee_id)\n",
    ")\n",
    "''')\n",
    "\n",
    "cursor.execute('''\n",
    "CREATE TABLE IF NOT EXISTS Training (\n",
    "    training_id INTEGER PRIMARY KEY,\n",
    "    employee_id INTEGER,\n",
    "    training_program TEXT,\n",
    "    completion_status TEXT,\n",
    "    FOREIGN KEY (employee_id) REFERENCES Employees(employee_id)\n",
    ")\n",
    "''')\n"
   ]
  },
  {
   "cell_type": "code",
   "execution_count": 16,
   "id": "6bbbc2f4",
   "metadata": {},
   "outputs": [
    {
     "data": {
      "text/plain": [
       "<sqlite3.Cursor at 0x2285eca41f0>"
      ]
     },
     "execution_count": 16,
     "metadata": {},
     "output_type": "execute_result"
    }
   ],
   "source": [
    "# Insert data into tables\n",
    "cursor.executemany('''\n",
    "INSERT INTO Employees (first_name, last_name, department, job_title, salary, hire_date) VALUES (?, ?, ?, ?, ?, ?)\n",
    "''', [\n",
    "    ('John', 'Doe', 'HR', 'Manager', 60000.0, '2020-01-15'),\n",
    "    ('Jane', 'Smith', 'IT', 'Developer', 80000.0, '2019-05-22'),\n",
    "    ('Alice', 'Johnson', 'Finance', 'Accountant', 70000.0, '2018-07-10'),\n",
    "    ('Bob', 'Williams', 'Marketing', 'Executive', 50000.0, '2017-09-30'),\n",
    "    ('Charlie', 'Brown', 'Sales', 'Salesperson', 45000.0, '2021-02-20'),\n",
    "    ('Dana', 'White', 'IT', 'Analyst', 75000.0, '2019-11-05')\n",
    "])\n",
    "\n",
    "cursor.executemany('''\n",
    "INSERT INTO Payroll (employee_id, salary, tax, net_pay) VALUES (?, ?, ?, ?)\n",
    "''', [\n",
    "    (1, 60000.0, 12000.0, 48000.0),\n",
    "    (2, 80000.0, 16000.0, 64000.0),\n",
    "    (3, 70000.0, 14000.0, 56000.0),\n",
    "    (4, 50000.0, 10000.0, 40000.0),\n",
    "    (5, 45000.0, 9000.0, 36000.0),\n",
    "    (6, 75000.0, 15000.0, 60000.0)\n",
    "])\n",
    "\n",
    "cursor.executemany('''\n",
    "INSERT INTO PerformanceReviews (employee_id, review_date, performance_rating) VALUES (?, ?, ?)\n",
    "''', [\n",
    "    (1, '2021-01-15', 4),\n",
    "    (2, '2021-01-15', 5),\n",
    "    (3, '2021-01-15', 3),\n",
    "    (4, '2021-01-15', 4),\n",
    "    (5, '2021-01-15', 3),\n",
    "    (6, '2021-01-15', 5)\n",
    "])\n",
    "\n",
    "cursor.executemany('''\n",
    "INSERT INTO Training (employee_id, training_program, completion_status) VALUES (?, ?, ?)\n",
    "''', [\n",
    "    (1, 'Leadership Training', 'Completed'),\n",
    "    (2, 'Advanced Python', 'Completed'),\n",
    "    (3, 'Financial Modeling', 'In Progress'),\n",
    "    (4, 'Digital Marketing', 'Completed'),\n",
    "    (5, 'Sales Techniques', 'Completed'),\n",
    "    (6, 'Data Analysis', 'In Progress')\n",
    "])\n",
    "\n"
   ]
  },
  {
   "cell_type": "code",
   "execution_count": 17,
   "id": "f93985a5",
   "metadata": {},
   "outputs": [
    {
     "name": "stdout",
     "output_type": "stream",
     "text": [
      "Employees:\n",
      "+----+---------------+--------------+-------------+--------------+-------------+----------+-------------+\n",
      "|    |   employee_id | first_name   | last_name   | department   | job_title   |   salary | hire_date   |\n",
      "+====+===============+==============+=============+==============+=============+==========+=============+\n",
      "|  0 |             1 | John         | Doe         | HR           | Manager     |    60000 | 2020-01-15  |\n",
      "+----+---------------+--------------+-------------+--------------+-------------+----------+-------------+\n",
      "|  1 |             2 | Jane         | Smith       | IT           | Developer   |    80000 | 2019-05-22  |\n",
      "+----+---------------+--------------+-------------+--------------+-------------+----------+-------------+\n",
      "|  2 |             3 | Alice        | Johnson     | Finance      | Accountant  |    70000 | 2018-07-10  |\n",
      "+----+---------------+--------------+-------------+--------------+-------------+----------+-------------+\n",
      "|  3 |             4 | Bob          | Williams    | Marketing    | Executive   |    50000 | 2017-09-30  |\n",
      "+----+---------------+--------------+-------------+--------------+-------------+----------+-------------+\n",
      "|  4 |             5 | Charlie      | Brown       | Sales        | Salesperson |    45000 | 2021-02-20  |\n",
      "+----+---------------+--------------+-------------+--------------+-------------+----------+-------------+\n",
      "|  5 |             6 | Dana         | White       | IT           | Analyst     |    75000 | 2019-11-05  |\n",
      "+----+---------------+--------------+-------------+--------------+-------------+----------+-------------+\n",
      "\n",
      "Payroll:\n",
      "+----+--------------+---------------+----------+-------+-----------+\n",
      "|    |   payroll_id |   employee_id |   salary |   tax |   net_pay |\n",
      "+====+==============+===============+==========+=======+===========+\n",
      "|  0 |            1 |             1 |    60000 | 12000 |     48000 |\n",
      "+----+--------------+---------------+----------+-------+-----------+\n",
      "|  1 |            2 |             2 |    80000 | 16000 |     64000 |\n",
      "+----+--------------+---------------+----------+-------+-----------+\n",
      "|  2 |            3 |             3 |    70000 | 14000 |     56000 |\n",
      "+----+--------------+---------------+----------+-------+-----------+\n",
      "|  3 |            4 |             4 |    50000 | 10000 |     40000 |\n",
      "+----+--------------+---------------+----------+-------+-----------+\n",
      "|  4 |            5 |             5 |    45000 |  9000 |     36000 |\n",
      "+----+--------------+---------------+----------+-------+-----------+\n",
      "|  5 |            6 |             6 |    75000 | 15000 |     60000 |\n",
      "+----+--------------+---------------+----------+-------+-----------+\n",
      "\n",
      "Performance Reviews:\n",
      "+----+-------------+---------------+---------------+----------------------+\n",
      "|    |   review_id |   employee_id | review_date   |   performance_rating |\n",
      "+====+=============+===============+===============+======================+\n",
      "|  0 |           1 |             1 | 2021-01-15    |                    4 |\n",
      "+----+-------------+---------------+---------------+----------------------+\n",
      "|  1 |           2 |             2 | 2021-01-15    |                    5 |\n",
      "+----+-------------+---------------+---------------+----------------------+\n",
      "|  2 |           3 |             3 | 2021-01-15    |                    3 |\n",
      "+----+-------------+---------------+---------------+----------------------+\n",
      "|  3 |           4 |             4 | 2021-01-15    |                    4 |\n",
      "+----+-------------+---------------+---------------+----------------------+\n",
      "|  4 |           5 |             5 | 2021-01-15    |                    3 |\n",
      "+----+-------------+---------------+---------------+----------------------+\n",
      "|  5 |           6 |             6 | 2021-01-15    |                    5 |\n",
      "+----+-------------+---------------+---------------+----------------------+\n",
      "\n",
      "Training:\n",
      "+----+---------------+---------------+---------------------+---------------------+\n",
      "|    |   training_id |   employee_id | training_program    | completion_status   |\n",
      "+====+===============+===============+=====================+=====================+\n",
      "|  0 |             1 |             1 | Leadership Training | Completed           |\n",
      "+----+---------------+---------------+---------------------+---------------------+\n",
      "|  1 |             2 |             2 | Advanced Python     | Completed           |\n",
      "+----+---------------+---------------+---------------------+---------------------+\n",
      "|  2 |             3 |             3 | Financial Modeling  | In Progress         |\n",
      "+----+---------------+---------------+---------------------+---------------------+\n",
      "|  3 |             4 |             4 | Digital Marketing   | Completed           |\n",
      "+----+---------------+---------------+---------------------+---------------------+\n",
      "|  4 |             5 |             5 | Sales Techniques    | Completed           |\n",
      "+----+---------------+---------------+---------------------+---------------------+\n",
      "|  5 |             6 |             6 | Data Analysis       | In Progress         |\n",
      "+----+---------------+---------------+---------------------+---------------------+\n"
     ]
    }
   ],
   "source": [
    "# Commit the changes\n",
    "conn.commit()\n",
    "\n",
    "# Query data\n",
    "df_employees = pd.read_sql_query(\"SELECT * FROM Employees\", conn)\n",
    "df_payroll = pd.read_sql_query(\"SELECT * FROM Payroll\", conn)\n",
    "df_performance_reviews = pd.read_sql_query(\"SELECT * FROM PerformanceReviews\", conn)\n",
    "df_training = pd.read_sql_query(\"SELECT * FROM Training\", conn)\n",
    "\n",
    "print(\"Employees:\")\n",
    "print(tabulate(df_employees, headers='keys', tablefmt='grid'))\n",
    "\n",
    "print(\"\\nPayroll:\")\n",
    "print(tabulate(df_payroll, headers='keys', tablefmt='grid'))\n",
    "\n",
    "print(\"\\nPerformance Reviews:\")\n",
    "print(tabulate(df_performance_reviews, headers='keys', tablefmt='grid'))\n",
    "\n",
    "print(\"\\nTraining:\")\n",
    "print(tabulate(df_training, headers='keys', tablefmt='grid'))\n"
   ]
  },
  {
   "cell_type": "markdown",
   "id": "61d72cbb",
   "metadata": {},
   "source": [
    "### 5. Website Analytics"
   ]
  },
  {
   "cell_type": "code",
   "execution_count": 18,
   "id": "74f76492",
   "metadata": {},
   "outputs": [],
   "source": [
    "# Connect to SQLite database\n",
    "conn = sqlite3.connect('analytics.db')\n",
    "cursor = conn.cursor()\n",
    "\n"
   ]
  },
  {
   "cell_type": "code",
   "execution_count": 20,
   "id": "ef43966b",
   "metadata": {},
   "outputs": [
    {
     "data": {
      "text/plain": [
       "<sqlite3.Cursor at 0x2285eccc1f0>"
      ]
     },
     "execution_count": 20,
     "metadata": {},
     "output_type": "execute_result"
    }
   ],
   "source": [
    "# Create tables\n",
    "cursor.execute('''\n",
    "CREATE TABLE IF NOT EXISTS WebsiteVisits (\n",
    "    visit_id INTEGER PRIMARY KEY,\n",
    "    visit_date TEXT,\n",
    "    user_id INTEGER,\n",
    "    page_viewed TEXT,\n",
    "    session_duration INTEGER,\n",
    "    referrer TEXT\n",
    ")\n",
    "''')\n",
    "\n",
    "cursor.execute('''\n",
    "CREATE TABLE IF NOT EXISTS UserBehavior (\n",
    "    behavior_id INTEGER PRIMARY KEY,\n",
    "    user_id INTEGER,\n",
    "    page_viewed TEXT,\n",
    "    action TEXT,\n",
    "    action_timestamp TEXT,\n",
    "    device TEXT\n",
    ")\n",
    "''')\n",
    "\n",
    "cursor.execute('''\n",
    "CREATE TABLE IF NOT EXISTS Campaigns (\n",
    "    campaign_id INTEGER PRIMARY KEY,\n",
    "    campaign_name TEXT,\n",
    "    start_date TEXT,\n",
    "    end_date TEXT,\n",
    "    converted INTEGER,\n",
    "    budget REAL\n",
    ")\n",
    "''')\n",
    "\n",
    "cursor.execute('''\n",
    "CREATE TABLE IF NOT EXISTS PageVisits (\n",
    "    visit_id INTEGER PRIMARY KEY,\n",
    "    page TEXT,\n",
    "    visit_date TEXT,\n",
    "    session_duration INTEGER,\n",
    "    bounce_rate REAL\n",
    ")\n",
    "''')\n",
    "# Insert data into tables\n",
    "cursor.executemany('''\n",
    "INSERT INTO WebsiteVisits (visit_date, user_id, page_viewed, session_duration, referrer) VALUES (?, ?, ?, ?, ?)\n",
    "''', [\n",
    "    ('2023-01-01', 1, 'Home', 120, 'Google'),\n",
    "    ('2023-01-01', 2, 'About', 90, 'Facebook'),\n",
    "    ('2023-01-02', 3, 'Contact', 110, 'Direct'),\n",
    "    ('2023-01-03', 4, 'Services', 80, 'Google'),\n",
    "    ('2023-01-04', 5, 'Blog', 100, 'Twitter'),\n",
    "    ('2023-01-05', 6, 'Home', 150, 'LinkedIn')\n",
    "])\n",
    "\n",
    "cursor.executemany('''\n",
    "INSERT INTO UserBehavior (user_id, page_viewed, action, action_timestamp, device) VALUES (?, ?, ?, ?, ?)\n",
    "''', [\n",
    "    (1, 'Home', 'Click', '2023-01-01 10:00:00', 'Desktop'),\n",
    "    (2, 'About', 'Scroll', '2023-01-01 10:05:00', 'Mobile'),\n",
    "    (3, 'Contact', 'Submit', '2023-01-02 11:00:00', 'Tablet'),\n",
    "    (4, 'Services', 'Hover', '2023-01-03 12:00:00', 'Desktop'),\n",
    "    (5, 'Blog', 'Click', '2023-01-04 13:00:00', 'Mobile'),\n",
    "    (6, 'Home', 'Scroll', '2023-01-05 14:00:00', 'Tablet')\n",
    "])\n",
    "\n",
    "cursor.executemany('''\n",
    "INSERT INTO Campaigns (campaign_name, start_date, end_date, converted, budget) VALUES (?, ?, ?, ?, ?)\n",
    "''', [\n",
    "    ('Campaign 1', '2023-01-01', '2023-01-31', 1, 1000.0),\n",
    "    ('Campaign 2', '2023-02-01', '2023-02-28', 0, 1500.0),\n",
    "    ('Campaign 3', '2023-03-01', '2023-03-31', 1, 2000.0),\n",
    "    ('Campaign 4', '2023-04-01', '2023-04-30', 0, 2500.0),\n",
    "    ('Campaign 5', '2023-05-01', '2023-05-31', 1, 3000.0),\n",
    "    ('Campaign 6', '2023-06-01', '2023-06-30', 0, 3500.0)\n",
    "])\n",
    "\n",
    "cursor.executemany('''\n",
    "INSERT INTO PageVisits (page, visit_date, session_duration, bounce_rate) VALUES (?, ?, ?, ?)\n",
    "''', [\n",
    "    ('Home', '2023-01-01', 120, 0.2),\n",
    "    ('About', '2023-01-01', 90, 0.1),\n",
    "    ('Contact', '2023-01-02', 110, 0.3),\n",
    "    ('Services', '2023-01-03', 80, 0.15),\n",
    "    ('Blog', '2023-01-04', 100, 0.25),\n",
    "    ('Home', '2023-01-05', 150, 0.05)\n",
    "])\n"
   ]
  },
  {
   "cell_type": "code",
   "execution_count": 21,
   "id": "85d65bc9",
   "metadata": {},
   "outputs": [
    {
     "name": "stdout",
     "output_type": "stream",
     "text": [
      "Website Visits:\n",
      "+----+------------+--------------+-----------+---------------+--------------------+------------+\n",
      "|    |   visit_id | visit_date   |   user_id | page_viewed   |   session_duration | referrer   |\n",
      "+====+============+==============+===========+===============+====================+============+\n",
      "|  0 |          1 | 2023-01-01   |         1 | Home          |                120 | Google     |\n",
      "+----+------------+--------------+-----------+---------------+--------------------+------------+\n",
      "|  1 |          2 | 2023-01-01   |         2 | About         |                 90 | Facebook   |\n",
      "+----+------------+--------------+-----------+---------------+--------------------+------------+\n",
      "|  2 |          3 | 2023-01-02   |         3 | Contact       |                110 | Direct     |\n",
      "+----+------------+--------------+-----------+---------------+--------------------+------------+\n",
      "|  3 |          4 | 2023-01-03   |         4 | Services      |                 80 | Google     |\n",
      "+----+------------+--------------+-----------+---------------+--------------------+------------+\n",
      "|  4 |          5 | 2023-01-04   |         5 | Blog          |                100 | Twitter    |\n",
      "+----+------------+--------------+-----------+---------------+--------------------+------------+\n",
      "|  5 |          6 | 2023-01-05   |         6 | Home          |                150 | LinkedIn   |\n",
      "+----+------------+--------------+-----------+---------------+--------------------+------------+\n",
      "\n",
      "User Behavior:\n",
      "+----+---------------+-----------+---------------+----------+---------------------+----------+\n",
      "|    |   behavior_id |   user_id | page_viewed   | action   | action_timestamp    | device   |\n",
      "+====+===============+===========+===============+==========+=====================+==========+\n",
      "|  0 |             1 |         1 | Home          | Click    | 2023-01-01 10:00:00 | Desktop  |\n",
      "+----+---------------+-----------+---------------+----------+---------------------+----------+\n",
      "|  1 |             2 |         2 | About         | Scroll   | 2023-01-01 10:05:00 | Mobile   |\n",
      "+----+---------------+-----------+---------------+----------+---------------------+----------+\n",
      "|  2 |             3 |         3 | Contact       | Submit   | 2023-01-02 11:00:00 | Tablet   |\n",
      "+----+---------------+-----------+---------------+----------+---------------------+----------+\n",
      "|  3 |             4 |         4 | Services      | Hover    | 2023-01-03 12:00:00 | Desktop  |\n",
      "+----+---------------+-----------+---------------+----------+---------------------+----------+\n",
      "|  4 |             5 |         5 | Blog          | Click    | 2023-01-04 13:00:00 | Mobile   |\n",
      "+----+---------------+-----------+---------------+----------+---------------------+----------+\n",
      "|  5 |             6 |         6 | Home          | Scroll   | 2023-01-05 14:00:00 | Tablet   |\n",
      "+----+---------------+-----------+---------------+----------+---------------------+----------+\n",
      "\n",
      "Campaigns:\n",
      "+----+---------------+-----------------+--------------+------------+-------------+----------+\n",
      "|    |   campaign_id | campaign_name   | start_date   | end_date   |   converted |   budget |\n",
      "+====+===============+=================+==============+============+=============+==========+\n",
      "|  0 |             1 | Campaign 1      | 2023-01-01   | 2023-01-31 |           1 |     1000 |\n",
      "+----+---------------+-----------------+--------------+------------+-------------+----------+\n",
      "|  1 |             2 | Campaign 2      | 2023-02-01   | 2023-02-28 |           0 |     1500 |\n",
      "+----+---------------+-----------------+--------------+------------+-------------+----------+\n",
      "|  2 |             3 | Campaign 3      | 2023-03-01   | 2023-03-31 |           1 |     2000 |\n",
      "+----+---------------+-----------------+--------------+------------+-------------+----------+\n",
      "|  3 |             4 | Campaign 4      | 2023-04-01   | 2023-04-30 |           0 |     2500 |\n",
      "+----+---------------+-----------------+--------------+------------+-------------+----------+\n",
      "|  4 |             5 | Campaign 5      | 2023-05-01   | 2023-05-31 |           1 |     3000 |\n",
      "+----+---------------+-----------------+--------------+------------+-------------+----------+\n",
      "|  5 |             6 | Campaign 6      | 2023-06-01   | 2023-06-30 |           0 |     3500 |\n",
      "+----+---------------+-----------------+--------------+------------+-------------+----------+\n",
      "\n",
      "Page Visits:\n",
      "+----+------------+----------+--------------+--------------------+---------------+\n",
      "|    |   visit_id | page     | visit_date   |   session_duration |   bounce_rate |\n",
      "+====+============+==========+==============+====================+===============+\n",
      "|  0 |          1 | Home     | 2023-01-01   |                120 |          0.2  |\n",
      "+----+------------+----------+--------------+--------------------+---------------+\n",
      "|  1 |          2 | About    | 2023-01-01   |                 90 |          0.1  |\n",
      "+----+------------+----------+--------------+--------------------+---------------+\n",
      "|  2 |          3 | Contact  | 2023-01-02   |                110 |          0.3  |\n",
      "+----+------------+----------+--------------+--------------------+---------------+\n",
      "|  3 |          4 | Services | 2023-01-03   |                 80 |          0.15 |\n",
      "+----+------------+----------+--------------+--------------------+---------------+\n",
      "|  4 |          5 | Blog     | 2023-01-04   |                100 |          0.25 |\n",
      "+----+------------+----------+--------------+--------------------+---------------+\n",
      "|  5 |          6 | Home     | 2023-01-05   |                150 |          0.05 |\n",
      "+----+------------+----------+--------------+--------------------+---------------+\n"
     ]
    }
   ],
   "source": [
    "\n",
    "# Commit the changes\n",
    "conn.commit()\n",
    "\n",
    "# Query data\n",
    "df_website_visits = pd.read_sql_query(\"SELECT * FROM WebsiteVisits\", conn)\n",
    "df_user_behavior = pd.read_sql_query(\"SELECT * FROM UserBehavior\", conn)\n",
    "df_campaigns = pd.read_sql_query(\"SELECT * FROM Campaigns\", conn)\n",
    "df_page_visits = pd.read_sql_query(\"SELECT * FROM PageVisits\", conn)\n",
    "\n",
    "print(\"Website Visits:\")\n",
    "print(tabulate(df_website_visits, headers='keys', tablefmt='grid'))\n",
    "\n",
    "print(\"\\nUser Behavior:\")\n",
    "print(tabulate(df_user_behavior, headers='keys', tablefmt='grid'))\n",
    "\n",
    "print(\"\\nCampaigns:\")\n",
    "print(tabulate(df_campaigns, headers='keys', tablefmt='grid'))\n",
    "\n",
    "print(\"\\nPage Visits:\")\n",
    "print(tabulate(df_page_visits, headers='keys', tablefmt='grid'))\n"
   ]
  },
  {
   "cell_type": "markdown",
   "id": "07b037ff",
   "metadata": {},
   "source": [
    "## Exploratory Data Analysis "
   ]
  },
  {
   "cell_type": "code",
   "execution_count": 1,
   "id": "d04a56ce",
   "metadata": {},
   "outputs": [],
   "source": [
    "import sqlite3\n",
    "import pandas as pd\n",
    "from tabulate import tabulate\n",
    "import matplotlib.pyplot as plt\n",
    "import seaborn as sns"
   ]
  },
  {
   "cell_type": "code",
   "execution_count": 2,
   "id": "128af4a5",
   "metadata": {},
   "outputs": [],
   "source": [
    "# Connect to SQLite database\n",
    "conn = sqlite3.connect('crm.db')"
   ]
  },
  {
   "cell_type": "code",
   "execution_count": 3,
   "id": "e06e9eb5",
   "metadata": {},
   "outputs": [],
   "source": [
    "# Load data\n",
    "df_customers = pd.read_sql_query(\"SELECT * FROM Customers\", conn)\n",
    "df_interactions = pd.read_sql_query(\"SELECT * FROM Interactions\", conn)\n",
    "df_sales = pd.read_sql_query(\"SELECT * FROM Sales\", conn)"
   ]
  },
  {
   "cell_type": "code",
   "execution_count": 4,
   "id": "b8836206",
   "metadata": {},
   "outputs": [
    {
     "name": "stdout",
     "output_type": "stream",
     "text": [
      "Customers:\n",
      "+----+---------------+--------------+-------------+---------------------------+----------+--------------+\n",
      "|    |   customer_id | first_name   | last_name   | email                     | phone    | address      |\n",
      "+====+===============+==============+=============+===========================+==========+==============+\n",
      "|  0 |             1 | John         | Doe         | john.doe@example.com      | 555-1234 | 123 Elm St   |\n",
      "+----+---------------+--------------+-------------+---------------------------+----------+--------------+\n",
      "|  1 |             2 | Jane         | Smith       | jane.smith@example.com    | 555-5678 | 456 Oak St   |\n",
      "+----+---------------+--------------+-------------+---------------------------+----------+--------------+\n",
      "|  2 |             3 | Alice        | Johnson     | alice.johnson@example.com | 555-8765 | 789 Pine St  |\n",
      "+----+---------------+--------------+-------------+---------------------------+----------+--------------+\n",
      "|  3 |             4 | Bob          | Brown       | bob.brown@example.com     | 555-4321 | 321 Maple St |\n",
      "+----+---------------+--------------+-------------+---------------------------+----------+--------------+\n",
      "|  4 |             5 | Charlie      | Davis       | charlie.davis@example.com | 555-6789 | 654 Birch St |\n",
      "+----+---------------+--------------+-------------+---------------------------+----------+--------------+\n",
      "|  5 |             6 | Dana         | White       | dana.white@example.com    | 555-9876 | 987 Cedar St |\n",
      "+----+---------------+--------------+-------------+---------------------------+----------+--------------+\n",
      "\n",
      "Interactions:\n",
      "+----+------------------+---------------+--------------------+--------------------+---------------------------+\n",
      "|    |   interaction_id |   customer_id | interaction_date   | interaction_type   | notes                     |\n",
      "+====+==================+===============+====================+====================+===========================+\n",
      "|  0 |                1 |             1 | 2023-01-01         | Email              | Sent welcome email        |\n",
      "+----+------------------+---------------+--------------------+--------------------+---------------------------+\n",
      "|  1 |                2 |             2 | 2023-01-02         | Phone              | Discussed product details |\n",
      "+----+------------------+---------------+--------------------+--------------------+---------------------------+\n",
      "|  2 |                3 |             3 | 2023-01-03         | Meeting            | Presented product demo    |\n",
      "+----+------------------+---------------+--------------------+--------------------+---------------------------+\n",
      "|  3 |                4 |             4 | 2023-01-04         | Email              | Sent follow-up email      |\n",
      "+----+------------------+---------------+--------------------+--------------------+---------------------------+\n",
      "|  4 |                5 |             5 | 2023-01-05         | Phone              | Resolved issue            |\n",
      "+----+------------------+---------------+--------------------+--------------------+---------------------------+\n",
      "|  5 |                6 |             6 | 2023-01-06         | Meeting            | Negotiated contract       |\n",
      "+----+------------------+---------------+--------------------+--------------------+---------------------------+\n",
      "\n",
      "Sales:\n",
      "+----+-----------+---------------+-----------------+-------------------+\n",
      "|    |   sale_id |   customer_id | purchase_date   |   purchase_amount |\n",
      "+====+===========+===============+=================+===================+\n",
      "|  0 |         1 |             1 | 2023-01-15      |               100 |\n",
      "+----+-----------+---------------+-----------------+-------------------+\n",
      "|  1 |         2 |             2 | 2023-01-16      |               150 |\n",
      "+----+-----------+---------------+-----------------+-------------------+\n",
      "|  2 |         3 |             3 | 2023-01-17      |               200 |\n",
      "+----+-----------+---------------+-----------------+-------------------+\n",
      "|  3 |         4 |             4 | 2023-01-18      |               250 |\n",
      "+----+-----------+---------------+-----------------+-------------------+\n",
      "|  4 |         5 |             5 | 2023-01-19      |               300 |\n",
      "+----+-----------+---------------+-----------------+-------------------+\n",
      "|  5 |         6 |             6 | 2023-01-20      |               350 |\n",
      "+----+-----------+---------------+-----------------+-------------------+\n"
     ]
    }
   ],
   "source": [
    "# Display data\n",
    "print(\"Customers:\")\n",
    "print(tabulate(df_customers, headers='keys', tablefmt='grid'))\n",
    "print(\"\\nInteractions:\")\n",
    "print(tabulate(df_interactions, headers='keys', tablefmt='grid'))\n",
    "print(\"\\nSales:\")\n",
    "print(tabulate(df_sales, headers='keys', tablefmt='grid'))"
   ]
  },
  {
   "cell_type": "code",
   "execution_count": 5,
   "id": "7019e040",
   "metadata": {},
   "outputs": [
    {
     "name": "stdout",
     "output_type": "stream",
     "text": [
      "\n",
      "Interactions per Customer:\n",
      "+----+---------------+---------------------+\n",
      "|    |   customer_id |   interaction_count |\n",
      "+====+===============+=====================+\n",
      "|  0 |             1 |                   1 |\n",
      "+----+---------------+---------------------+\n",
      "|  1 |             2 |                   1 |\n",
      "+----+---------------+---------------------+\n",
      "|  2 |             3 |                   1 |\n",
      "+----+---------------+---------------------+\n",
      "|  3 |             4 |                   1 |\n",
      "+----+---------------+---------------------+\n",
      "|  4 |             5 |                   1 |\n",
      "+----+---------------+---------------------+\n",
      "|  5 |             6 |                   1 |\n",
      "+----+---------------+---------------------+\n"
     ]
    }
   ],
   "source": [
    "# EDA: Number of interactions per customer\n",
    "interactions_per_customer = df_interactions['customer_id'].value_counts()\n",
    "print(\"\\nInteractions per Customer:\")\n",
    "print(tabulate(interactions_per_customer.reset_index().rename(columns={'index': 'customer_id', 'customer_id': 'interaction_count'}), headers='keys', tablefmt='grid'))\n"
   ]
  },
  {
   "cell_type": "code",
   "execution_count": 6,
   "id": "bbfaf702",
   "metadata": {},
   "outputs": [
    {
     "data": {
      "image/png": "[encoded data removed]",
      "text/plain": [
       "<Figure size 720x432 with 1 Axes>"
      ]
     },
     "metadata": {
      "needs_background": "light"
     },
     "output_type": "display_data"
    }
   ],
   "source": [
    "# Plot: Interactions per Customer\n",
    "plt.figure(figsize=(10, 6))\n",
    "sns.countplot(x='customer_id', data=df_interactions)\n",
    "plt.title('Number of Interactions per Customer')\n",
    "plt.xlabel('Customer ID')\n",
    "plt.ylabel('Number of Interactions')\n",
    "plt.show()"
   ]
  },
  {
   "cell_type": "code",
   "execution_count": 7,
   "id": "c72d8600",
   "metadata": {},
   "outputs": [
    {
     "name": "stdout",
     "output_type": "stream",
     "text": [
      "\n",
      "Total Purchase Amount per Customer:\n",
      "+----+---------------+-------------------+\n",
      "|    |   customer_id |   purchase_amount |\n",
      "+====+===============+===================+\n",
      "|  0 |             1 |               100 |\n",
      "+----+---------------+-------------------+\n",
      "|  1 |             2 |               150 |\n",
      "+----+---------------+-------------------+\n",
      "|  2 |             3 |               200 |\n",
      "+----+---------------+-------------------+\n",
      "|  3 |             4 |               250 |\n",
      "+----+---------------+-------------------+\n",
      "|  4 |             5 |               300 |\n",
      "+----+---------------+-------------------+\n",
      "|  5 |             6 |               350 |\n",
      "+----+---------------+-------------------+\n"
     ]
    }
   ],
   "source": [
    "# EDA: Total purchase amount per customer\n",
    "total_purchase_per_customer = df_sales.groupby('customer_id')['purchase_amount'].sum().reset_index()\n",
    "print(\"\\nTotal Purchase Amount per Customer:\")\n",
    "print(tabulate(total_purchase_per_customer, headers='keys', tablefmt='grid'))\n"
   ]
  },
  {
   "cell_type": "code",
   "execution_count": 8,
   "id": "347696a0",
   "metadata": {},
   "outputs": [
    {
     "data": {
      "image/png": "[encoded data removed]",
      "text/plain": [
       "<Figure size 720x432 with 1 Axes>"
      ]
     },
     "metadata": {
      "needs_background": "light"
     },
     "output_type": "display_data"
    }
   ],
   "source": [
    "# Plot: Total Purchase Amount per Customer\n",
    "plt.figure(figsize=(10, 6))\n",
    "sns.barplot(x='customer_id', y='purchase_amount', data=total_purchase_per_customer)\n",
    "plt.title('Total Purchase Amount per Customer')\n",
    "plt.xlabel('Customer ID')\n",
    "plt.ylabel('Total Purchase Amount')\n",
    "plt.show()"
   ]
  },
  {
   "cell_type": "markdown",
   "id": "731ad5c7-4502-4185-84e7-6e7394ab4def",
   "metadata": {},
   "source": [
    "The image is a bar chart that shows the Total Purchase Amount per Customer. The x-axis represents the Customer ID (1 through 6), and the y-axis represents the Total Purchase Amount. The bars show a clear upward trend, indicating that Customer 6 has the highest total purchase amount, followed by Customer 5, while Customer 1 has the lowest total purchase amount.\n",
    "\n",
    "This visualization helps identify the top-spending customers, which can be useful for customer segmentation and targeting in marketing campaigns. If you would like any specific modifications or further analysis based on this chart, let me know!"
   ]
  },
  {
   "cell_type": "code",
   "execution_count": 9,
   "id": "54708df7",
   "metadata": {},
   "outputs": [],
   "source": [
    "# Close connection\n",
    "conn.close()"
   ]
  },
  {
   "cell_type": "markdown",
   "id": "ba4d0a38",
   "metadata": {},
   "source": [
    "### 2. Inventory Management EDA"
   ]
  },
  {
   "cell_type": "code",
   "execution_count": 10,
   "id": "79c18c27",
   "metadata": {},
   "outputs": [],
   "source": [
    "# Connect to SQLite database\n",
    "conn = sqlite3.connect('inventory.db')"
   ]
  },
  {
   "cell_type": "code",
   "execution_count": 11,
   "id": "50848927",
   "metadata": {},
   "outputs": [],
   "source": [
    "# Load data\n",
    "df_inventory = pd.read_sql_query(\"SELECT * FROM Inventory\", conn)\n",
    "df_orders = pd.read_sql_query(\"SELECT * FROM Orders\", conn)\n",
    "df_sales = pd.read_sql_query(\"SELECT * FROM Sales\", conn)"
   ]
  },
  {
   "cell_type": "code",
   "execution_count": 12,
   "id": "73e36ea4",
   "metadata": {},
   "outputs": [
    {
     "name": "stdout",
     "output_type": "stream",
     "text": [
      "\n",
      "Stock Levels:\n",
      "+----+----------------+------------------+\n",
      "|    | product_name   |   stock_quantity |\n",
      "+====+================+==================+\n",
      "|  0 | Widget A       |              100 |\n",
      "+----+----------------+------------------+\n",
      "|  1 | Widget B       |              200 |\n",
      "+----+----------------+------------------+\n",
      "|  2 | Widget C       |              300 |\n",
      "+----+----------------+------------------+\n",
      "|  3 | Widget D       |              150 |\n",
      "+----+----------------+------------------+\n",
      "|  4 | Widget E       |              250 |\n",
      "+----+----------------+------------------+\n",
      "|  5 | Widget F       |              350 |\n",
      "+----+----------------+------------------+\n"
     ]
    }
   ],
   "source": [
    "# EDA: Stock levels\n",
    "print(\"\\nStock Levels:\")\n",
    "print(tabulate(df_inventory[['product_name', 'stock_quantity']], headers='keys', tablefmt='grid'))\n"
   ]
  },
  {
   "cell_type": "code",
   "execution_count": 13,
   "id": "af0602a6",
   "metadata": {},
   "outputs": [
    {
     "data": {
      "image/png": "[encoded data removed]",
      "text/plain": [
       "<Figure size 720x432 with 1 Axes>"
      ]
     },
     "metadata": {
      "needs_background": "light"
     },
     "output_type": "display_data"
    }
   ],
   "source": [
    "# Plot: Stock Levels\n",
    "plt.figure(figsize=(10, 6))\n",
    "sns.barplot(x='product_name', y='stock_quantity', data=df_inventory)\n",
    "plt.title('Stock Levels by Product')\n",
    "plt.xlabel('Product Name')\n",
    "plt.ylabel('Stock Quantity')\n",
    "plt.xticks(rotation=45)\n",
    "plt.show()"
   ]
  },
  {
   "attachments": {},
   "cell_type": "markdown",
   "id": "b9a6f187-ad8e-4c36-9f1b-df5a55346a42",
   "metadata": {},
   "source": [
    "The bar chart shows the Stock Levels by Product. The x-axis represents the Product Name (Widget A through Widget F), and the y-axis represents the Stock Quantity.\n",
    "\n",
    "Here are some key observations:\n",
    "\n",
    "- Widget F has the highest stock quantity, followed closely by Widget C.\n",
    "- Widget A has the lowest stock quantity.\n",
    "- Widget D also has relatively low stock compared to the other products.\n",
    "This visualization is helpful for inventory management, allowing the business to see which products are in surplus and which may need to be restocked soon. Let me know if you'd like any further analysis or modifications!"
   ]
  },
  {
   "cell_type": "code",
   "execution_count": 14,
   "id": "557ba0b2",
   "metadata": {},
   "outputs": [
    {
     "name": "stdout",
     "output_type": "stream",
     "text": [
      "\n",
      "Total Sales per Product:\n",
      "+----+----------------+-----------------+\n",
      "|    | product_name   |   quantity_sold |\n",
      "+====+================+=================+\n",
      "|  0 | Widget A       |              10 |\n",
      "+----+----------------+-----------------+\n",
      "|  1 | Widget B       |              20 |\n",
      "+----+----------------+-----------------+\n",
      "|  2 | Widget C       |              30 |\n",
      "+----+----------------+-----------------+\n",
      "|  3 | Widget D       |              40 |\n",
      "+----+----------------+-----------------+\n",
      "|  4 | Widget E       |              25 |\n",
      "+----+----------------+-----------------+\n",
      "|  5 | Widget F       |              35 |\n",
      "+----+----------------+-----------------+\n"
     ]
    }
   ],
   "source": [
    "# EDA: Total sales per product\n",
    "total_sales_per_product = df_sales.groupby('product_id')['quantity_sold'].sum().reset_index()\n",
    "total_sales_per_product = total_sales_per_product.merge(df_inventory[['product_id', 'product_name']], on='product_id')\n",
    "print(\"\\nTotal Sales per Product:\")\n",
    "print(tabulate(total_sales_per_product[['product_name', 'quantity_sold']], headers='keys', tablefmt='grid'))\n"
   ]
  },
  {
   "cell_type": "code",
   "execution_count": 15,
   "id": "5d7cba4d",
   "metadata": {
    "scrolled": true
   },
   "outputs": [
    {
     "data": {
      "image/png": "[encoded data removed]",
      "text/plain": [
       "<Figure size 720x432 with 1 Axes>"
      ]
     },
     "metadata": {
      "needs_background": "light"
     },
     "output_type": "display_data"
    }
   ],
   "source": [
    "# Plot: Total Sales per Product\n",
    "plt.figure(figsize=(10, 6))\n",
    "sns.barplot(x='product_name', y='quantity_sold', data=total_sales_per_product)\n",
    "plt.title('Total Sales per Product')\n",
    "plt.xlabel('Product Name')\n",
    "plt.ylabel('Quantity Sold')\n",
    "plt.xticks(rotation=45)\n",
    "plt.show()"
   ]
  },
  {
   "cell_type": "markdown",
   "id": "e75bc7e1-d21b-4aa0-a959-a69bbb95e654",
   "metadata": {},
   "source": [
    "The bar chart shows the Quantity Sold by Product. The x-axis represents the Product Name (Widget A through Widget F), and the y-axis represents the Quantity Sold.\n",
    "\n",
    "#### Key insights from the chart:\n",
    "\n",
    "- Widget D has the highest quantity sold, followed closely by Widget F and Widget C.\n",
    "- Widget A has the lowest quantity sold.\n",
    "- There is a fairly even distribution of sales across Widgets B, E, and A, with A being the lowest.\n",
    "  \n",
    "This chart is useful for analyzing sales performance and identifying the best-selling products. It can help in making decisions about production, inventory replenishment, or promotional strategies. Let me know if you'd like further analysis or any modifications!"
   ]
  },
  {
   "cell_type": "markdown",
   "id": "8c6b22d0",
   "metadata": {},
   "source": [
    "### 3. Financial Reporting EDA"
   ]
  },
  {
   "cell_type": "code",
   "execution_count": 18,
   "id": "cdee0ead",
   "metadata": {},
   "outputs": [],
   "source": [
    "# Connect to SQLite database\n",
    "conn = sqlite3.connect('finance.db')"
   ]
  },
  {
   "cell_type": "code",
   "execution_count": 19,
   "id": "5bce0e6c",
   "metadata": {},
   "outputs": [],
   "source": [
    "# Load data\n",
    "df_financials = pd.read_sql_query(\"SELECT * FROM Financials\", conn)\n",
    "df_balance_sheet = pd.read_sql_query(\"SELECT * FROM BalanceSheet\", conn)\n",
    "df_cash_flow = pd.read_sql_query(\"SELECT * FROM CashFlow\", conn)"
   ]
  },
  {
   "cell_type": "code",
   "execution_count": null,
   "id": "a04ac81b",
   "metadata": {},
   "outputs": [],
   "source": [
    "# Display data\n",
    "print(\"Financials:\")\n",
    "print(tabulate(df_financials, headers='keys', tablefmt='grid'))\n",
    "print(\"\\nBalance Sheet:\")\n",
    "print(tabulate(df_balance_sheet, headers='keys', tablefmt='grid'))\n",
    "print(\"\\nCash Flow:\")\n",
    "print(tabulate(df_cash_flow, headers='keys', tablefmt='grid'))"
   ]
  },
  {
   "cell_type": "code",
   "execution_count": 21,
   "id": "2f194425",
   "metadata": {},
   "outputs": [
    {
     "name": "stdout",
     "output_type": "stream",
     "text": [
      "\n",
      "Revenue vs Expenses:\n",
      "+----+---------------+-----------+------------+\n",
      "|    | report_date   |   revenue |   expenses |\n",
      "+====+===============+===========+============+\n",
      "|  0 | 2023-01-01    |     10000 |       5000 |\n",
      "+----+---------------+-----------+------------+\n",
      "|  1 | 2023-02-01    |     15000 |       7000 |\n",
      "+----+---------------+-----------+------------+\n",
      "|  2 | 2023-03-01    |     20000 |      10000 |\n",
      "+----+---------------+-----------+------------+\n",
      "|  3 | 2023-04-01    |     25000 |      12000 |\n",
      "+----+---------------+-----------+------------+\n",
      "|  4 | 2023-05-01    |     30000 |      15000 |\n",
      "+----+---------------+-----------+------------+\n",
      "|  5 | 2023-06-01    |     35000 |      17000 |\n",
      "+----+---------------+-----------+------------+\n"
     ]
    }
   ],
   "source": [
    "# EDA: Revenue vs Expenses\n",
    "print(\"\\nRevenue vs Expenses:\")\n",
    "print(tabulate(df_financials[['report_date', 'revenue', 'expenses']], headers='keys', tablefmt='grid'))\n"
   ]
  },
  {
   "cell_type": "code",
   "execution_count": 22,
   "id": "f753e037",
   "metadata": {},
   "outputs": [
    {
     "data": {
      "image/png": "[encoded data removed]",
      "text/plain": [
       "<Figure size 720x432 with 1 Axes>"
      ]
     },
     "metadata": {
      "needs_background": "light"
     },
     "output_type": "display_data"
    }
   ],
   "source": [
    "# Plot: Revenue vs Expenses\n",
    "plt.figure(figsize=(10, 6))\n",
    "plt.plot(df_financials['report_date'], df_financials['revenue'], label='Revenue')\n",
    "plt.plot(df_financials['report_date'], df_financials['expenses'], label='Expenses')\n",
    "plt.title('Revenue vs Expenses Over Time')\n",
    "plt.xlabel('Report Date')\n",
    "plt.ylabel('Amount')\n",
    "plt.legend()\n",
    "plt.xticks(rotation=45)\n",
    "plt.show()"
   ]
  },
  {
   "cell_type": "markdown",
   "id": "99f82c5a-bb8d-4498-a83d-308f4e68a4d9",
   "metadata": {},
   "source": [
    "The line chart shows the Revenue vs Expenses Over Time. The x-axis represents the Report Date (from January 2023 to June 2023), and the y-axis represents the Amount.\n",
    "\n",
    "Key observations:\n",
    "\n",
    "Revenue (blue line) is consistently higher than Expenses (orange line) over the given time period.\n",
    "Both revenue and expenses are increasing over time, with revenue growing at a steeper rate compared to expenses.\n",
    "This indicates healthy business growth, as revenue is increasing faster than expenses, leading to greater profitability.\n",
    "This chart is helpful for financial analysis, giving insights into the company's financial health over time. It shows that the company is maintaining control over its expenses while boosting its revenue. Let me know if you'd like further insights or adjustments!"
   ]
  },
  {
   "cell_type": "code",
   "execution_count": 23,
   "id": "9bd943c4",
   "metadata": {},
   "outputs": [
    {
     "name": "stdout",
     "output_type": "stream",
     "text": [
      "\n",
      "Net Income Over Time:\n",
      "+----+---------------+--------------+\n",
      "|    | report_date   |   net_income |\n",
      "+====+===============+==============+\n",
      "|  0 | 2023-01-01    |         5000 |\n",
      "+----+---------------+--------------+\n",
      "|  1 | 2023-02-01    |         8000 |\n",
      "+----+---------------+--------------+\n",
      "|  2 | 2023-03-01    |        10000 |\n",
      "+----+---------------+--------------+\n",
      "|  3 | 2023-04-01    |        13000 |\n",
      "+----+---------------+--------------+\n",
      "|  4 | 2023-05-01    |        15000 |\n",
      "+----+---------------+--------------+\n",
      "|  5 | 2023-06-01    |        18000 |\n",
      "+----+---------------+--------------+\n"
     ]
    }
   ],
   "source": [
    "# EDA: Net Income Over Time\n",
    "print(\"\\nNet Income Over Time:\")\n",
    "print(tabulate(df_financials[['report_date', 'net_income']], headers='keys', tablefmt='grid'))\n"
   ]
  },
  {
   "cell_type": "code",
   "execution_count": 25,
   "id": "0d313c9a",
   "metadata": {},
   "outputs": [
    {
     "data": {
      "image/png": "[encoded data removed]",
      "text/plain": [
       "<Figure size 720x432 with 1 Axes>"
      ]
     },
     "metadata": {
      "needs_background": "light"
     },
     "output_type": "display_data"
    }
   ],
   "source": [
    "# Plot: Net Income Over Time\n",
    "plt.figure(figsize=(10, 6))\n",
    "sns.lineplot(x='report_date', y='net_income', data=df_financials)\n",
    "plt.title('Net Income Over Time')\n",
    "plt.xlabel('Report Date')\n",
    "plt.ylabel('Net Income')\n",
    "plt.xticks(rotation=45)\n",
    "plt.show()\n",
    "\n",
    "# Close connection\n",
    "conn.close()"
   ]
  },
  {
   "cell_type": "markdown",
   "id": "b2ebd574-cdf1-481c-93a5-2a1838c5b891",
   "metadata": {},
   "source": [
    "This image is a line chart showing Net Income Over Time. The x-axis represents the Report Date (from January 2023 to June 2023), and the y-axis represents the Net Income.\n",
    "\n",
    "#### Key observations:\n",
    "\n",
    "Net income is steadily increasing over time, showing a consistent upward trend.\n",
    "From January 2023 to June 2023, the net income has nearly tripled, indicating strong financial growth.\n",
    "This indicates effective management of revenue and expenses, as the company has been able to increase profitability each month.\n",
    "This chart provides valuable insights into the company's overall financial performance, highlighting increasing profitability over time. If you'd like further analysis or a different perspective, let me know"
   ]
  },
  {
   "cell_type": "markdown",
   "id": "1381fc1c",
   "metadata": {},
   "source": [
    "## 4. Human Resources Management EDA"
   ]
  },
  {
   "cell_type": "code",
   "execution_count": 26,
   "id": "111d69ee",
   "metadata": {},
   "outputs": [],
   "source": [
    "# Connect to SQLite database\n",
    "conn = sqlite3.connect('hr.db')"
   ]
  },
  {
   "cell_type": "code",
   "execution_count": 27,
   "id": "2c1ce2f9",
   "metadata": {},
   "outputs": [],
   "source": [
    "# Load data\n",
    "df_employees = pd.read_sql_query(\"SELECT * FROM Employees\", conn)\n",
    "df_payroll = pd.read_sql_query(\"SELECT * FROM Payroll\", conn)\n",
    "df_performance_reviews = pd.read_sql_query(\"SELECT * FROM PerformanceReviews\", conn)\n",
    "df_training = pd.read_sql_query(\"SELECT * FROM Training\", conn)\n"
   ]
  },
  {
   "cell_type": "code",
   "execution_count": null,
   "id": "2374065e",
   "metadata": {},
   "outputs": [],
   "source": [
    "# Display data\n",
    "print(\"Employees:\")\n",
    "print(tabulate(df_employees, headers='keys', tablefmt='grid'))\n",
    "print(\"\\nPayroll:\")\n",
    "print(tabulate(df_payroll, headers='keys', tablefmt='grid'))\n",
    "print(\"\\nPerformance Reviews:\")\n",
    "print(tabulate(df_performance_reviews, headers='keys', tablefmt='grid'))\n",
    "print(\"\\nTraining:\")\n",
    "print(tabulate(df_training, headers='keys', tablefmt='grid'))"
   ]
  },
  {
   "cell_type": "code",
   "execution_count": 29,
   "id": "09affa5b",
   "metadata": {},
   "outputs": [
    {
     "name": "stdout",
     "output_type": "stream",
     "text": [
      "\n",
      "Salary Distribution:\n",
      "+----+--------------+-------------+----------+\n",
      "|    | first_name   | last_name   |   salary |\n",
      "+====+==============+=============+==========+\n",
      "|  0 | John         | Doe         |    60000 |\n",
      "+----+--------------+-------------+----------+\n",
      "|  1 | Jane         | Smith       |    80000 |\n",
      "+----+--------------+-------------+----------+\n",
      "|  2 | Alice        | Johnson     |    70000 |\n",
      "+----+--------------+-------------+----------+\n",
      "|  3 | Bob          | Williams    |    50000 |\n",
      "+----+--------------+-------------+----------+\n",
      "|  4 | Charlie      | Brown       |    45000 |\n",
      "+----+--------------+-------------+----------+\n",
      "|  5 | Dana         | White       |    75000 |\n",
      "+----+--------------+-------------+----------+\n"
     ]
    }
   ],
   "source": [
    "# EDA: Salary Distribution\n",
    "print(\"\\nSalary Distribution:\")\n",
    "print(tabulate(df_employees[['first_name', 'last_name', 'salary']], headers='keys', tablefmt='grid'))\n"
   ]
  },
  {
   "cell_type": "code",
   "execution_count": 30,
   "id": "5642bfc3",
   "metadata": {},
   "outputs": [
    {
     "data": {
      "image/png": "[encoded data removed]",
      "text/plain": [
       "<Figure size 720x432 with 1 Axes>"
      ]
     },
     "metadata": {
      "needs_background": "light"
     },
     "output_type": "display_data"
    }
   ],
   "source": [
    "# Plot: Salary Distribution\n",
    "plt.figure(figsize=(10, 6))\n",
    "sns.histplot(df_employees['salary'], bins=10, kde=True)\n",
    "plt.title('Salary Distribution')\n",
    "plt.xlabel('Salary')\n",
    "plt.ylabel('Frequency')\n",
    "plt.show()"
   ]
  },
  {
   "cell_type": "markdown",
   "id": "0574cfb4-4d02-45ad-bd77-3a83017371e1",
   "metadata": {},
   "source": [
    "The image is a histogram with a density curve that represents the Salary Distribution of employees. The x-axis shows the Salary range (from 45,000 to 80,000), and the y-axis shows the Frequency of employees within each salary range.\n",
    "\n",
    "### Key observations:\n",
    "\n",
    "The salary distribution is somewhat uniform, with distinct salary brackets at 45,000, 60,000, and 80,000.\n",
    "The number of employees is evenly distributed across these salary brackets, with no one salary range dominating the others.\n",
    "The density curve suggests a slight increase in frequency between 60,000 and 70,000, but overall, the distribution is fairly balanced.\n",
    "This chart provides insights into how employee salaries are structured across the company. The distribution can help identify patterns in compensation, such as clusters around certain salary ranges. Let me know if you'd like any further analysis!\n"
   ]
  },
  {
   "cell_type": "code",
   "execution_count": 31,
   "id": "fed05a27",
   "metadata": {},
   "outputs": [
    {
     "name": "stdout",
     "output_type": "stream",
     "text": [
      "\n",
      "Performance Ratings:\n",
      "+----+----------+---------+\n",
      "|    |   rating |   count |\n",
      "+====+==========+=========+\n",
      "|  0 |        4 |       2 |\n",
      "+----+----------+---------+\n",
      "|  1 |        5 |       2 |\n",
      "+----+----------+---------+\n",
      "|  2 |        3 |       2 |\n",
      "+----+----------+---------+\n"
     ]
    }
   ],
   "source": [
    "# EDA: Performance Ratings\n",
    "performance_ratings = df_performance_reviews['performance_rating'].value_counts().reset_index()\n",
    "performance_ratings.columns = ['rating', 'count']\n",
    "print(\"\\nPerformance Ratings:\")\n",
    "print(tabulate(performance_ratings, headers='keys', tablefmt='grid'))\n"
   ]
  },
  {
   "cell_type": "code",
   "execution_count": 33,
   "id": "80287734",
   "metadata": {},
   "outputs": [
    {
     "data": {
      "image/png": "[encoded data removed]",
      "text/plain": [
       "<Figure size 720x432 with 1 Axes>"
      ]
     },
     "metadata": {
      "needs_background": "light"
     },
     "output_type": "display_data"
    }
   ],
   "source": [
    "# Plot: Performance Ratings\n",
    "plt.figure(figsize=(10, 6))\n",
    "sns.barplot(x='rating', y='count', data=performance_ratings)\n",
    "plt.title('Performance Ratings Distribution')\n",
    "plt.xlabel('Rating')\n",
    "plt.ylabel('Count')\n",
    "plt.show()\n",
    "\n",
    "# Close connection\n",
    "conn.close()"
   ]
  },
  {
   "cell_type": "code",
   "execution_count": 34,
   "id": "73456a9f",
   "metadata": {},
   "outputs": [],
   "source": [
    "# Connect to SQLite database\n",
    "conn = sqlite3.connect('analytics.db')"
   ]
  },
  {
   "cell_type": "code",
   "execution_count": 35,
   "id": "18f8d974",
   "metadata": {},
   "outputs": [],
   "source": [
    "# Load data\n",
    "df_website_visits = pd.read_sql_query(\"SELECT * FROM WebsiteVisits\", conn)\n",
    "df_user_behavior = pd.read_sql_query(\"SELECT * FROM UserBehavior\", conn)\n",
    "df_campaigns = pd.read_sql_query(\"SELECT * FROM Campaigns\", conn)\n",
    "df_page_visits = pd.read_sql_query(\"SELECT * FROM PageVisits\", conn)"
   ]
  },
  {
   "cell_type": "code",
   "execution_count": 36,
   "id": "4128e2e7",
   "metadata": {},
   "outputs": [
    {
     "name": "stdout",
     "output_type": "stream",
     "text": [
      "Website Visits:\n",
      "+----+------------+--------------+-----------+---------------+--------------------+------------+\n",
      "|    |   visit_id | visit_date   |   user_id | page_viewed   |   session_duration | referrer   |\n",
      "+====+============+==============+===========+===============+====================+============+\n",
      "|  0 |          1 | 2023-01-01   |         1 | Home          |                120 | Google     |\n",
      "+----+------------+--------------+-----------+---------------+--------------------+------------+\n",
      "|  1 |          2 | 2023-01-01   |         2 | About         |                 90 | Facebook   |\n",
      "+----+------------+--------------+-----------+---------------+--------------------+------------+\n",
      "|  2 |          3 | 2023-01-02   |         3 | Contact       |                110 | Direct     |\n",
      "+----+------------+--------------+-----------+---------------+--------------------+------------+\n",
      "|  3 |          4 | 2023-01-03   |         4 | Services      |                 80 | Google     |\n",
      "+----+------------+--------------+-----------+---------------+--------------------+------------+\n",
      "|  4 |          5 | 2023-01-04   |         5 | Blog          |                100 | Twitter    |\n",
      "+----+------------+--------------+-----------+---------------+--------------------+------------+\n",
      "|  5 |          6 | 2023-01-05   |         6 | Home          |                150 | LinkedIn   |\n",
      "+----+------------+--------------+-----------+---------------+--------------------+------------+\n",
      "\n",
      "User Behavior:\n",
      "+----+---------------+-----------+---------------+----------+---------------------+----------+\n",
      "|    |   behavior_id |   user_id | page_viewed   | action   | action_timestamp    | device   |\n",
      "+====+===============+===========+===============+==========+=====================+==========+\n",
      "|  0 |             1 |         1 | Home          | Click    | 2023-01-01 10:00:00 | Desktop  |\n",
      "+----+---------------+-----------+---------------+----------+---------------------+----------+\n",
      "|  1 |             2 |         2 | About         | Scroll   | 2023-01-01 10:05:00 | Mobile   |\n",
      "+----+---------------+-----------+---------------+----------+---------------------+----------+\n",
      "|  2 |             3 |         3 | Contact       | Submit   | 2023-01-02 11:00:00 | Tablet   |\n",
      "+----+---------------+-----------+---------------+----------+---------------------+----------+\n",
      "|  3 |             4 |         4 | Services      | Hover    | 2023-01-03 12:00:00 | Desktop  |\n",
      "+----+---------------+-----------+---------------+----------+---------------------+----------+\n",
      "|  4 |             5 |         5 | Blog          | Click    | 2023-01-04 13:00:00 | Mobile   |\n",
      "+----+---------------+-----------+---------------+----------+---------------------+----------+\n",
      "|  5 |             6 |         6 | Home          | Scroll   | 2023-01-05 14:00:00 | Tablet   |\n",
      "+----+---------------+-----------+---------------+----------+---------------------+----------+\n",
      "\n",
      "Campaigns:\n",
      "+----+---------------+-----------------+--------------+------------+-------------+----------+\n",
      "|    |   campaign_id | campaign_name   | start_date   | end_date   |   converted |   budget |\n",
      "+====+===============+=================+==============+============+=============+==========+\n",
      "|  0 |             1 | Campaign 1      | 2023-01-01   | 2023-01-31 |           1 |     1000 |\n",
      "+----+---------------+-----------------+--------------+------------+-------------+----------+\n",
      "|  1 |             2 | Campaign 2      | 2023-02-01   | 2023-02-28 |           0 |     1500 |\n",
      "+----+---------------+-----------------+--------------+------------+-------------+----------+\n",
      "|  2 |             3 | Campaign 3      | 2023-03-01   | 2023-03-31 |           1 |     2000 |\n",
      "+----+---------------+-----------------+--------------+------------+-------------+----------+\n",
      "|  3 |             4 | Campaign 4      | 2023-04-01   | 2023-04-30 |           0 |     2500 |\n",
      "+----+---------------+-----------------+--------------+------------+-------------+----------+\n",
      "|  4 |             5 | Campaign 5      | 2023-05-01   | 2023-05-31 |           1 |     3000 |\n",
      "+----+---------------+-----------------+--------------+------------+-------------+----------+\n",
      "|  5 |             6 | Campaign 6      | 2023-06-01   | 2023-06-30 |           0 |     3500 |\n",
      "+----+---------------+-----------------+--------------+------------+-------------+----------+\n",
      "\n",
      "Page Visits:\n",
      "+----+------------+----------+--------------+--------------------+---------------+\n",
      "|    |   visit_id | page     | visit_date   |   session_duration |   bounce_rate |\n",
      "+====+============+==========+==============+====================+===============+\n",
      "|  0 |          1 | Home     | 2023-01-01   |                120 |          0.2  |\n",
      "+----+------------+----------+--------------+--------------------+---------------+\n",
      "|  1 |          2 | About    | 2023-01-01   |                 90 |          0.1  |\n",
      "+----+------------+----------+--------------+--------------------+---------------+\n",
      "|  2 |          3 | Contact  | 2023-01-02   |                110 |          0.3  |\n",
      "+----+------------+----------+--------------+--------------------+---------------+\n",
      "|  3 |          4 | Services | 2023-01-03   |                 80 |          0.15 |\n",
      "+----+------------+----------+--------------+--------------------+---------------+\n",
      "|  4 |          5 | Blog     | 2023-01-04   |                100 |          0.25 |\n",
      "+----+------------+----------+--------------+--------------------+---------------+\n",
      "|  5 |          6 | Home     | 2023-01-05   |                150 |          0.05 |\n",
      "+----+------------+----------+--------------+--------------------+---------------+\n"
     ]
    }
   ],
   "source": [
    "# Display data\n",
    "print(\"Website Visits:\")\n",
    "print(tabulate(df_website_visits, headers='keys', tablefmt='grid'))\n",
    "print(\"\\nUser Behavior:\")\n",
    "print(tabulate(df_user_behavior, headers='keys', tablefmt='grid'))\n",
    "print(\"\\nCampaigns:\")\n",
    "print(tabulate(df_campaigns, headers='keys', tablefmt='grid'))\n",
    "print(\"\\nPage Visits:\")\n",
    "print(tabulate(df_page_visits, headers='keys', tablefmt='grid'))"
   ]
  },
  {
   "cell_type": "code",
   "execution_count": 37,
   "id": "f1a342fa",
   "metadata": {},
   "outputs": [
    {
     "name": "stdout",
     "output_type": "stream",
     "text": [
      "\n",
      "Session Duration by Page:\n",
      "+----+----------+--------------------+\n",
      "|    | page     |   session_duration |\n",
      "+====+==========+====================+\n",
      "|  0 | Home     |                120 |\n",
      "+----+----------+--------------------+\n",
      "|  1 | About    |                 90 |\n",
      "+----+----------+--------------------+\n",
      "|  2 | Contact  |                110 |\n",
      "+----+----------+--------------------+\n",
      "|  3 | Services |                 80 |\n",
      "+----+----------+--------------------+\n",
      "|  4 | Blog     |                100 |\n",
      "+----+----------+--------------------+\n",
      "|  5 | Home     |                150 |\n",
      "+----+----------+--------------------+\n"
     ]
    }
   ],
   "source": [
    "# EDA: Session Duration by Page\n",
    "print(\"\\nSession Duration by Page:\")\n",
    "print(tabulate(df_page_visits[['page', 'session_duration']], headers='keys', tablefmt='grid'))\n"
   ]
  },
  {
   "cell_type": "code",
   "execution_count": 38,
   "id": "7f96ee32",
   "metadata": {},
   "outputs": [
    {
     "data": {
      "image/png": "[encoded data removed]",
      "text/plain": [
       "<Figure size 720x432 with 1 Axes>"
      ]
     },
     "metadata": {
      "needs_background": "light"
     },
     "output_type": "display_data"
    }
   ],
   "source": [
    "# Plot: Session Duration by Page\n",
    "plt.figure(figsize=(10, 6))\n",
    "sns.barplot(x='page', y='session_duration', data=df_page_visits)\n",
    "plt.title('Session Duration by Page')\n",
    "plt.xlabel('Page')\n",
    "plt.ylabel('Session Duration')\n",
    "plt.xticks(rotation=45)\n",
    "plt.show()"
   ]
  },
  {
   "cell_type": "markdown",
   "id": "8512d33c-3a6d-42c5-959c-e926fa9c794e",
   "metadata": {},
   "source": [
    "The image is a bar chart showing the Session Duration by Page. \n",
    "### Key observations:\n",
    "The Home page has the highest average session duration, meaning users spend the most time on the homepage.\n",
    "The Contact page also has a relatively high session duration, indicating users spend a significant amount of time here.\n",
    "The Services page has the lowest session duration, meaning users may not spend much time exploring service offerings.\n",
    "The About and Blog pages have moderate session durations.\n",
    "This analysis helps in understanding user behavior on the website. Pages with longer session durations, such as the Home and Contact pages, likely provide more engaging or necessary content. This can help in optimizing content and improving the user experience on pages with shorter session durations, such as the Services page. Let me know if you'd like to explore further!"
   ]
  },
  {
   "cell_type": "code",
   "execution_count": 39,
   "id": "74312b90",
   "metadata": {},
   "outputs": [
    {
     "name": "stdout",
     "output_type": "stream",
     "text": [
      "\n",
      "Bounce Rate by Page:\n",
      "+----+----------+---------------+\n",
      "|    | page     |   bounce_rate |\n",
      "+====+==========+===============+\n",
      "|  0 | Home     |          0.2  |\n",
      "+----+----------+---------------+\n",
      "|  1 | About    |          0.1  |\n",
      "+----+----------+---------------+\n",
      "|  2 | Contact  |          0.3  |\n",
      "+----+----------+---------------+\n",
      "|  3 | Services |          0.15 |\n",
      "+----+----------+---------------+\n",
      "|  4 | Blog     |          0.25 |\n",
      "+----+----------+---------------+\n",
      "|  5 | Home     |          0.05 |\n",
      "+----+----------+---------------+\n"
     ]
    }
   ],
   "source": [
    "# EDA: Bounce Rate by Page\n",
    "print(\"\\nBounce Rate by Page:\")\n",
    "print(tabulate(df_page_visits[['page', 'bounce_rate']], headers='keys', tablefmt='grid'))\n"
   ]
  },
  {
   "cell_type": "code",
   "execution_count": 41,
   "id": "33ccd256",
   "metadata": {},
   "outputs": [
    {
     "data": {
      "image/png": "[encoded data removed]",
      "text/plain": [
       "<Figure size 720x432 with 1 Axes>"
      ]
     },
     "metadata": {
      "needs_background": "light"
     },
     "output_type": "display_data"
    }
   ],
   "source": [
    "# Plot: Bounce Rate by Page\n",
    "plt.figure(figsize=(10, 6))\n",
    "sns.barplot(x='page', y='bounce_rate', data=df_page_visits)\n",
    "plt.title('Bounce Rate by Page')\n",
    "plt.xlabel('Page')\n",
    "plt.ylabel('Bounce Rate')\n",
    "plt.xticks(rotation=45)\n",
    "plt.show()\n",
    "\n",
    "# Close connection\n",
    "conn.close()"
   ]
  },
  {
   "cell_type": "markdown",
   "id": "83e889c4-0524-4e1d-9d7d-574da927a2d0",
   "metadata": {},
   "source": [
    "The image is a bar chart showing the Bounce Rate by Page. \n",
    "### Key observations:\n",
    "The Contact page has the highest bounce rate, indicating that many users leave the site quickly after viewing this page. This could be due to users finding the information they need or not being engaged enough to explore further.\n",
    "- The Blog page also has a relatively high bounce rate, suggesting that users might not engage deeply with the blog content.\n",
    "- The About and Services pages have the lowest bounce rates, meaning users are more likely to explore further after visiting these pages.\n",
    "- The Home page has a moderate bounce rate, which is typical as it’s often a landing page.\n",
    "  \n",
    "High bounce rates on specific pages could indicate issues with user engagement or page content. It might be helpful to analyze why users are leaving the Contact and Blog pages and make adjustments to improve engagement. Let me know if you want to explore further or need suggestions for optimization!"
   ]
  },
  {
   "cell_type": "markdown",
   "id": "e8161d99",
   "metadata": {},
   "source": [
    "# Scenario 1: Identify the customers who have interacted the most with the company."
   ]
  },
  {
   "cell_type": "code",
   "execution_count": 43,
   "id": "454624e2",
   "metadata": {},
   "outputs": [],
   "source": [
    "import sqlite3\n",
    "import pandas as pd\n",
    "from tabulate import tabulate\n",
    "import matplotlib.pyplot as plt\n",
    "import seaborn as sns"
   ]
  },
  {
   "cell_type": "code",
   "execution_count": 44,
   "id": "2e8650b7",
   "metadata": {},
   "outputs": [],
   "source": [
    "# Connect to SQLite database\n",
    "conn = sqlite3.connect('crm.db')"
   ]
  },
  {
   "cell_type": "code",
   "execution_count": 45,
   "id": "699b886a",
   "metadata": {},
   "outputs": [
    {
     "name": "stdout",
     "output_type": "stream",
     "text": [
      "\n",
      "Customers with the Most Interactions:\n",
      "+----+---------------+---------------------+\n",
      "|    |   customer_id |   interaction_count |\n",
      "+====+===============+=====================+\n",
      "|  0 |             6 |                   1 |\n",
      "+----+---------------+---------------------+\n",
      "|  1 |             5 |                   1 |\n",
      "+----+---------------+---------------------+\n",
      "|  2 |             4 |                   1 |\n",
      "+----+---------------+---------------------+\n",
      "|  3 |             3 |                   1 |\n",
      "+----+---------------+---------------------+\n",
      "|  4 |             2 |                   1 |\n",
      "+----+---------------+---------------------+\n",
      "|  5 |             1 |                   1 |\n",
      "+----+---------------+---------------------+\n"
     ]
    }
   ],
   "source": [
    "query1 = pd.read_sql_query('''\n",
    "SELECT customer_id, COUNT(*) AS interaction_count\n",
    "FROM Interactions\n",
    "GROUP BY customer_id\n",
    "ORDER BY interaction_count DESC;\n",
    "''', conn)\n",
    "print(\"\\nCustomers with the Most Interactions:\")\n",
    "print(tabulate(query1, headers='keys', tablefmt='grid'))"
   ]
  },
  {
   "cell_type": "markdown",
   "id": "6af98059",
   "metadata": {},
   "source": [
    "# Scenario 2: Find the total sales amount for each customer."
   ]
  },
  {
   "cell_type": "code",
   "execution_count": 46,
   "id": "52a91697",
   "metadata": {
    "scrolled": true
   },
   "outputs": [
    {
     "name": "stdout",
     "output_type": "stream",
     "text": [
      "\n",
      "Total Sales Amount per Customer:\n",
      "+----+---------------+---------------+\n",
      "|    |   customer_id |   total_sales |\n",
      "+====+===============+===============+\n",
      "|  0 |             6 |           350 |\n",
      "+----+---------------+---------------+\n",
      "|  1 |             5 |           300 |\n",
      "+----+---------------+---------------+\n",
      "|  2 |             4 |           250 |\n",
      "+----+---------------+---------------+\n",
      "|  3 |             3 |           200 |\n",
      "+----+---------------+---------------+\n",
      "|  4 |             2 |           150 |\n",
      "+----+---------------+---------------+\n",
      "|  5 |             1 |           100 |\n",
      "+----+---------------+---------------+\n"
     ]
    }
   ],
   "source": [
    "query2 = pd.read_sql_query('''\n",
    "SELECT customer_id, SUM(purchase_amount) AS total_sales\n",
    "FROM Sales\n",
    "GROUP BY customer_id\n",
    "ORDER BY total_sales DESC;\n",
    "''', conn)\n",
    "print(\"\\nTotal Sales Amount per Customer:\")\n",
    "print(tabulate(query2, headers='keys', tablefmt='grid'))"
   ]
  },
  {
   "cell_type": "markdown",
   "id": "84f6893b",
   "metadata": {},
   "source": [
    "# Scenario 3: List customers who have not made any purchases.\n"
   ]
  },
  {
   "cell_type": "code",
   "execution_count": 47,
   "id": "61f518c6",
   "metadata": {},
   "outputs": [
    {
     "name": "stdout",
     "output_type": "stream",
     "text": [
      "\n",
      "Customers Who Have Not Made Any Purchases:\n",
      "+---------------+--------------+-------------+\n",
      "| customer_id   | first_name   | last_name   |\n",
      "+===============+==============+=============+\n",
      "+---------------+--------------+-------------+\n"
     ]
    }
   ],
   "source": [
    "query3 = pd.read_sql_query('''\n",
    "SELECT c.customer_id, c.first_name, c.last_name\n",
    "FROM Customers c\n",
    "LEFT JOIN Sales s ON c.customer_id = s.customer_id\n",
    "WHERE s.customer_id IS NULL;\n",
    "''', conn)\n",
    "print(\"\\nCustomers Who Have Not Made Any Purchases:\")\n",
    "print(tabulate(query3, headers='keys', tablefmt='grid'))"
   ]
  },
  {
   "cell_type": "markdown",
   "id": "5a955181",
   "metadata": {},
   "source": [
    "# Scenario 4: Determine the average number of interactions per customer."
   ]
  },
  {
   "cell_type": "code",
   "execution_count": 48,
   "id": "393ce82c",
   "metadata": {},
   "outputs": [
    {
     "name": "stdout",
     "output_type": "stream",
     "text": [
      "\n",
      "Average Number of Interactions per Customer:\n",
      "+----+--------------------+\n",
      "|    |   avg_interactions |\n",
      "+====+====================+\n",
      "|  0 |                  1 |\n",
      "+----+--------------------+\n"
     ]
    }
   ],
   "source": [
    "query4 = pd.read_sql_query('''\n",
    "SELECT AVG(interaction_count) AS avg_interactions\n",
    "FROM (\n",
    "    SELECT customer_id, COUNT(*) AS interaction_count\n",
    "    FROM Interactions\n",
    "    GROUP BY customer_id\n",
    ") AS subquery;\n",
    "''', conn)\n",
    "print(\"\\nAverage Number of Interactions per Customer:\")\n",
    "print(tabulate(query4, headers='keys', tablefmt='grid'))"
   ]
  },
  {
   "cell_type": "markdown",
   "id": "456df759",
   "metadata": {},
   "source": [
    "# Scenario 5: Identify the top 5 customers with the highest total purchase amount."
   ]
  },
  {
   "cell_type": "code",
   "execution_count": 49,
   "id": "d0f3f78f",
   "metadata": {},
   "outputs": [
    {
     "name": "stdout",
     "output_type": "stream",
     "text": [
      "\n",
      "Top 5 Customers by Total Purchase Amount:\n",
      "+----+---------------+---------------+\n",
      "|    |   customer_id |   total_sales |\n",
      "+====+===============+===============+\n",
      "|  0 |             6 |           350 |\n",
      "+----+---------------+---------------+\n",
      "|  1 |             5 |           300 |\n",
      "+----+---------------+---------------+\n",
      "|  2 |             4 |           250 |\n",
      "+----+---------------+---------------+\n",
      "|  3 |             3 |           200 |\n",
      "+----+---------------+---------------+\n",
      "|  4 |             2 |           150 |\n",
      "+----+---------------+---------------+\n"
     ]
    }
   ],
   "source": [
    "query5 = pd.read_sql_query('''\n",
    "SELECT customer_id, SUM(purchase_amount) AS total_sales\n",
    "FROM Sales\n",
    "GROUP BY customer_id\n",
    "ORDER BY total_sales DESC\n",
    "LIMIT 5;\n",
    "''', conn)\n",
    "print(\"\\nTop 5 Customers by Total Purchase Amount:\")\n",
    "print(tabulate(query5, headers='keys', tablefmt='grid'))\n",
    "\n",
    "# Close connection\n",
    "conn.close()"
   ]
  },
  {
   "cell_type": "markdown",
   "id": "4550c830",
   "metadata": {},
   "source": [
    "# 2. Inventory Management EDA"
   ]
  },
  {
   "cell_type": "code",
   "execution_count": 50,
   "id": "adc31f0e",
   "metadata": {},
   "outputs": [],
   "source": [
    "# Connect to SQLite database\n",
    "conn = sqlite3.connect('inventory.db')"
   ]
  },
  {
   "cell_type": "code",
   "execution_count": 51,
   "id": "4d13da89",
   "metadata": {},
   "outputs": [],
   "source": [
    "# Load data\n",
    "df_inventory = pd.read_sql_query(\"SELECT * FROM Inventory\", conn)\n",
    "df_orders = pd.read_sql_query(\"SELECT * FROM Orders\", conn)\n",
    "df_sales = pd.read_sql_query(\"SELECT * FROM Sales\", conn)"
   ]
  },
  {
   "cell_type": "markdown",
   "id": "2dfd927d",
   "metadata": {},
   "source": [
    "# Scenario 1: Find products that are low in stock (less than 10 units)."
   ]
  },
  {
   "cell_type": "code",
   "execution_count": 52,
   "id": "bf54f0dc",
   "metadata": {},
   "outputs": [
    {
     "name": "stdout",
     "output_type": "stream",
     "text": [
      "\n",
      "Products Low in Stock:\n",
      "+----------------+------------------+\n",
      "| product_name   | stock_quantity   |\n",
      "+================+==================+\n",
      "+----------------+------------------+\n"
     ]
    }
   ],
   "source": [
    "query1 = pd.read_sql_query('''\n",
    "SELECT product_name, stock_quantity\n",
    "FROM Inventory\n",
    "WHERE stock_quantity < 10;\n",
    "''', conn)\n",
    "print(\"\\nProducts Low in Stock:\")\n",
    "print(tabulate(query1, headers='keys', tablefmt='grid'))"
   ]
  },
  {
   "cell_type": "markdown",
   "id": "26412f5d",
   "metadata": {},
   "source": [
    "# Scenario 2: Calculate the total value of current inventory."
   ]
  },
  {
   "cell_type": "code",
   "execution_count": null,
   "id": "a32675a9",
   "metadata": {},
   "outputs": [],
   "source": []
  },
  {
   "cell_type": "code",
   "execution_count": null,
   "id": "df5be65d",
   "metadata": {},
   "outputs": [],
   "source": [
    "\n",
    "# Scenario 2: Calculate the total value of current inventory.\n",
    "query2 = pd.read_sql_query('''\n",
    "SELECT SUM(stock_quantity * unit_price) AS total_inventory_value\n",
    "FROM Inventory;\n",
    "''', conn)\n",
    "print(\"\\nTotal Value of Current Inventory:\")\n",
    "print(tabulate(query2, headers='keys', tablefmt='grid'))"
   ]
  },
  {
   "cell_type": "markdown",
   "id": "2b03aa49",
   "metadata": {},
   "source": [
    "# Scenario 3: List the top 3 best-selling products."
   ]
  },
  {
   "cell_type": "code",
   "execution_count": 56,
   "id": "96fc2266",
   "metadata": {},
   "outputs": [
    {
     "name": "stdout",
     "output_type": "stream",
     "text": [
      "\n",
      "Top 3 Best-Selling Products:\n",
      "+----+----------------+--------------+\n",
      "|    | product_name   |   total_sold |\n",
      "+====+================+==============+\n",
      "|  0 | Widget D       |           40 |\n",
      "+----+----------------+--------------+\n",
      "|  1 | Widget F       |           35 |\n",
      "+----+----------------+--------------+\n",
      "|  2 | Widget C       |           30 |\n",
      "+----+----------------+--------------+\n"
     ]
    }
   ],
   "source": [
    "\n",
    "query3 = pd.read_sql_query('''\n",
    "SELECT i.product_name, SUM(s.quantity_sold) AS total_sold\n",
    "FROM Sales s\n",
    "JOIN Inventory i ON s.product_id = i.product_id\n",
    "GROUP BY s.product_id, i.product_name\n",
    "ORDER BY total_sold DESC\n",
    "LIMIT 3;\n",
    "''', conn)\n",
    "print(\"\\nTop 3 Best-Selling Products:\")\n",
    "print(tabulate(query3, headers='keys', tablefmt='grid'))"
   ]
  },
  {
   "cell_type": "markdown",
   "id": "370cbfc1",
   "metadata": {},
   "source": [
    "# Scenario 4: Identify products that have never been sold."
   ]
  },
  {
   "cell_type": "code",
   "execution_count": 57,
   "id": "0b3d5f01",
   "metadata": {},
   "outputs": [
    {
     "name": "stdout",
     "output_type": "stream",
     "text": [
      "\n",
      "Products That Have Never Been Sold:\n",
      "+--------------+----------------+\n",
      "| product_id   | product_name   |\n",
      "+==============+================+\n",
      "+--------------+----------------+\n"
     ]
    }
   ],
   "source": [
    "query4 = pd.read_sql_query('''\n",
    "SELECT product_id, product_name\n",
    "FROM Inventory\n",
    "WHERE product_id NOT IN (SELECT DISTINCT product_id FROM Sales);\n",
    "''', conn)\n",
    "print(\"\\nProducts That Have Never Been Sold:\")\n",
    "print(tabulate(query4, headers='keys', tablefmt='grid'))"
   ]
  },
  {
   "cell_type": "markdown",
   "id": "d579a0cf",
   "metadata": {},
   "source": [
    "# Scenario 5: Find the total number of orders and their status."
   ]
  },
  {
   "cell_type": "code",
   "execution_count": 58,
   "id": "ab99b7e5",
   "metadata": {},
   "outputs": [
    {
     "name": "stdout",
     "output_type": "stream",
     "text": [
      "\n",
      "Total Number of Orders by Status:\n",
      "+----+----------------+----------------+\n",
      "|    | order_status   |   total_orders |\n",
      "+====+================+================+\n",
      "|  0 | Completed      |              3 |\n",
      "+----+----------------+----------------+\n",
      "|  1 | Pending        |              3 |\n",
      "+----+----------------+----------------+\n"
     ]
    }
   ],
   "source": [
    "query5 = pd.read_sql_query('''\n",
    "SELECT order_status, COUNT(*) AS total_orders\n",
    "FROM Orders\n",
    "GROUP BY order_status;\n",
    "''', conn)\n",
    "print(\"\\nTotal Number of Orders by Status:\")\n",
    "print(tabulate(query5, headers='keys', tablefmt='grid'))\n",
    "\n",
    "\n",
    "# Close connection\n",
    "conn.close()"
   ]
  },
  {
   "cell_type": "markdown",
   "id": "1f5b8223",
   "metadata": {},
   "source": [
    "## 3. Financial Reporting EDA"
   ]
  },
  {
   "cell_type": "code",
   "execution_count": 59,
   "id": "fb2736f3",
   "metadata": {},
   "outputs": [],
   "source": [
    "# Connect to SQLite database\n",
    "conn = sqlite3.connect('finance.db')"
   ]
  },
  {
   "cell_type": "code",
   "execution_count": 60,
   "id": "36deb651",
   "metadata": {},
   "outputs": [],
   "source": [
    "# Load data\n",
    "df_financials = pd.read_sql_query(\"SELECT * FROM Financials\", conn)\n",
    "df_balance_sheet = pd.read_sql_query(\"SELECT * FROM BalanceSheet\", conn)\n",
    "df_cash_flow = pd.read_sql_query(\"SELECT * FROM CashFlow\", conn)"
   ]
  },
  {
   "cell_type": "markdown",
   "id": "ff6375e1",
   "metadata": {},
   "source": [
    "### Scenario 1: Calculate the net income for each month."
   ]
  },
  {
   "cell_type": "code",
   "execution_count": 61,
   "id": "ed8e05f6",
   "metadata": {},
   "outputs": [
    {
     "name": "stdout",
     "output_type": "stream",
     "text": [
      "\n",
      "Net Income for Each Month:\n",
      "+----+---------------+--------------+\n",
      "|    | report_date   |   net_income |\n",
      "+====+===============+==============+\n",
      "|  0 | 2023-01-01    |         5000 |\n",
      "+----+---------------+--------------+\n",
      "|  1 | 2023-02-01    |         8000 |\n",
      "+----+---------------+--------------+\n",
      "|  2 | 2023-03-01    |        10000 |\n",
      "+----+---------------+--------------+\n",
      "|  3 | 2023-04-01    |        13000 |\n",
      "+----+---------------+--------------+\n",
      "|  4 | 2023-05-01    |        15000 |\n",
      "+----+---------------+--------------+\n",
      "|  5 | 2023-06-01    |        18000 |\n",
      "+----+---------------+--------------+\n"
     ]
    }
   ],
   "source": [
    "query1 = pd.read_sql_query('''\n",
    "SELECT report_date, revenue - expenses AS net_income\n",
    "FROM Financials;\n",
    "''', conn)\n",
    "print(\"\\nNet Income for Each Month:\")\n",
    "print(tabulate(query1, headers='keys', tablefmt='grid'))"
   ]
  },
  {
   "cell_type": "markdown",
   "id": "b61c6880",
   "metadata": {},
   "source": [
    "## Scenario 2: Determine the total assets, liabilities, and equity for the latest balance sheet report."
   ]
  },
  {
   "cell_type": "code",
   "execution_count": 62,
   "id": "7ace4f7e",
   "metadata": {},
   "outputs": [
    {
     "name": "stdout",
     "output_type": "stream",
     "text": [
      "\n",
      "Latest Balance Sheet Report:\n",
      "+----+---------------+----------+---------------+----------+\n",
      "|    | report_date   |   assets |   liabilities |   equity |\n",
      "+====+===============+==========+===============+==========+\n",
      "|  0 | 2023-06-01    |   100000 |         45000 |    55000 |\n",
      "+----+---------------+----------+---------------+----------+\n"
     ]
    }
   ],
   "source": [
    "query2 = pd.read_sql_query('''\n",
    "SELECT report_date, assets, liabilities, equity\n",
    "FROM BalanceSheet\n",
    "ORDER BY report_date DESC\n",
    "LIMIT 1;\n",
    "''', conn)\n",
    "print(\"\\nLatest Balance Sheet Report:\")\n",
    "print(tabulate(query2, headers='keys', tablefmt='grid'))"
   ]
  },
  {
   "cell_type": "markdown",
   "id": "05da5c6d",
   "metadata": {},
   "source": [
    "# Scenario 3: Identify the month with the highest revenue"
   ]
  },
  {
   "cell_type": "code",
   "execution_count": 63,
   "id": "e679ea38",
   "metadata": {},
   "outputs": [
    {
     "name": "stdout",
     "output_type": "stream",
     "text": [
      "\n",
      "Month with the Highest Revenue:\n",
      "+----+---------------+-----------+\n",
      "|    | report_date   |   revenue |\n",
      "+====+===============+===========+\n",
      "|  0 | 2023-06-01    |     35000 |\n",
      "+----+---------------+-----------+\n"
     ]
    }
   ],
   "source": [
    "query3 = pd.read_sql_query('''\n",
    "SELECT report_date, revenue\n",
    "FROM Financials\n",
    "ORDER BY revenue DESC\n",
    "LIMIT 1;\n",
    "''', conn)\n",
    "print(\"\\nMonth with the Highest Revenue:\")\n",
    "print(tabulate(query3, headers='keys', tablefmt='grid'))"
   ]
  },
  {
   "cell_type": "markdown",
   "id": "cecd161f",
   "metadata": {},
   "source": [
    "## Scenario 4: Calculate the total cash inflow and outflow."
   ]
  },
  {
   "cell_type": "code",
   "execution_count": 64,
   "id": "5f6eacfb",
   "metadata": {},
   "outputs": [
    {
     "name": "stdout",
     "output_type": "stream",
     "text": [
      "\n",
      "Total Cash Inflow and Outflow:\n",
      "+----+--------------------+----------------+\n",
      "|    | transaction_type   |   total_amount |\n",
      "+====+====================+================+\n",
      "|  0 | Inflow             |           4500 |\n",
      "+----+--------------------+----------------+\n",
      "|  1 | Outflow            |           2200 |\n",
      "+----+--------------------+----------------+\n"
     ]
    }
   ],
   "source": [
    "query4 = pd.read_sql_query('''\n",
    "SELECT transaction_type, SUM(amount) AS total_amount\n",
    "FROM CashFlow\n",
    "GROUP BY transaction_type;\n",
    "''', conn)\n",
    "print(\"\\nTotal Cash Inflow and Outflow:\")\n",
    "print(tabulate(query4, headers='keys', tablefmt='grid'))"
   ]
  },
  {
   "cell_type": "markdown",
   "id": "b161bc60",
   "metadata": {},
   "source": [
    "# Scenario 5: Compare the budgeted vs. actual expenses for each financial period."
   ]
  },
  {
   "cell_type": "code",
   "execution_count": null,
   "id": "02d1267e",
   "metadata": {},
   "outputs": [],
   "source": [
    "query5 = pd.read_sql_query('''\n",
    "SELECT f.report_date, b.budgeted_amount, f.expenses, (f.expenses - b.budgeted_amount) AS variance\n",
    "FROM Financials f\n",
    "JOIN Budget b ON f.report_date = b.report_date\n",
    "WHERE f.expenses IS NOT NULL;\n",
    "''', conn)\n",
    "print(\"\\nBudgeted vs. Actual Expenses:\")\n",
    "print(tabulate(query5, headers='keys', tablefmt='grid'))\n",
    "\n",
    "# Close connection\n",
    "conn.close()"
   ]
  },
  {
   "cell_type": "markdown",
   "id": "7850b15a",
   "metadata": {},
   "source": [
    "# 4. Human Resources Management EDA"
   ]
  },
  {
   "cell_type": "code",
   "execution_count": 69,
   "id": "d912c754",
   "metadata": {},
   "outputs": [],
   "source": [
    "# Connect to SQLite database\n",
    "conn = sqlite3.connect('hr.db')"
   ]
  },
  {
   "cell_type": "code",
   "execution_count": 70,
   "id": "81f4d0da",
   "metadata": {},
   "outputs": [],
   "source": [
    "# Load data\n",
    "df_employees = pd.read_sql_query(\"SELECT * FROM Employees\", conn)\n",
    "df_payroll = pd.read_sql_query(\"SELECT * FROM Payroll\", conn)\n",
    "df_performance_reviews = pd.read_sql_query(\"SELECT * FROM PerformanceReviews\", conn)\n",
    "df_training = pd.read_sql_query(\"SELECT * FROM Training\", conn)"
   ]
  },
  {
   "cell_type": "markdown",
   "id": "2bb16aa4",
   "metadata": {},
   "source": [
    "# Scenario 1: List employees and their respective departments."
   ]
  },
  {
   "cell_type": "code",
   "execution_count": 71,
   "id": "6d4eddb5",
   "metadata": {},
   "outputs": [
    {
     "name": "stdout",
     "output_type": "stream",
     "text": [
      "\n",
      "Employees and Their Departments:\n",
      "+----+--------------+-------------+--------------+\n",
      "|    | first_name   | last_name   | department   |\n",
      "+====+==============+=============+==============+\n",
      "|  0 | Alice        | Johnson     | Finance      |\n",
      "+----+--------------+-------------+--------------+\n",
      "|  1 | John         | Doe         | HR           |\n",
      "+----+--------------+-------------+--------------+\n",
      "|  2 | Jane         | Smith       | IT           |\n",
      "+----+--------------+-------------+--------------+\n",
      "|  3 | Dana         | White       | IT           |\n",
      "+----+--------------+-------------+--------------+\n",
      "|  4 | Bob          | Williams    | Marketing    |\n",
      "+----+--------------+-------------+--------------+\n",
      "|  5 | Charlie      | Brown       | Sales        |\n",
      "+----+--------------+-------------+--------------+\n"
     ]
    }
   ],
   "source": [
    "# SQL Queries for Scenarios\n",
    "query1 = pd.read_sql_query('''\n",
    "SELECT first_name, last_name, department\n",
    "FROM Employees\n",
    "ORDER BY department;\n",
    "''', conn)\n",
    "print(\"\\nEmployees and Their Departments:\")\n",
    "print(tabulate(query1, headers='keys', tablefmt='grid'))"
   ]
  },
  {
   "cell_type": "markdown",
   "id": "e8a50c76",
   "metadata": {},
   "source": [
    "# Scenario 2: Calculate the average salary in each department."
   ]
  },
  {
   "cell_type": "code",
   "execution_count": 72,
   "id": "a6f5763d",
   "metadata": {},
   "outputs": [
    {
     "name": "stdout",
     "output_type": "stream",
     "text": [
      "\n",
      "Average Salary in Each Department:\n",
      "+----+--------------+------------------+\n",
      "|    | department   |   average_salary |\n",
      "+====+==============+==================+\n",
      "|  0 | Finance      |            70000 |\n",
      "+----+--------------+------------------+\n",
      "|  1 | HR           |            60000 |\n",
      "+----+--------------+------------------+\n",
      "|  2 | IT           |            77500 |\n",
      "+----+--------------+------------------+\n",
      "|  3 | Marketing    |            50000 |\n",
      "+----+--------------+------------------+\n",
      "|  4 | Sales        |            45000 |\n",
      "+----+--------------+------------------+\n"
     ]
    }
   ],
   "source": [
    "\n",
    "query2 = pd.read_sql_query('''\n",
    "SELECT department, AVG(salary) AS average_salary\n",
    "FROM Employees\n",
    "GROUP BY department;\n",
    "''', conn)\n",
    "print(\"\\nAverage Salary in Each Department:\")\n",
    "print(tabulate(query2, headers='keys', tablefmt='grid'))"
   ]
  },
  {
   "cell_type": "markdown",
   "id": "4722ce0b",
   "metadata": {},
   "source": [
    "# Scenario 3: Identify employees with salaries above the company average."
   ]
  },
  {
   "cell_type": "code",
   "execution_count": 73,
   "id": "6e696df3",
   "metadata": {},
   "outputs": [
    {
     "name": "stdout",
     "output_type": "stream",
     "text": [
      "\n",
      "Employees with Salaries Above the Company Average:\n",
      "+----+--------------+-------------+----------+\n",
      "|    | first_name   | last_name   |   salary |\n",
      "+====+==============+=============+==========+\n",
      "|  0 | Jane         | Smith       |    80000 |\n",
      "+----+--------------+-------------+----------+\n",
      "|  1 | Alice        | Johnson     |    70000 |\n",
      "+----+--------------+-------------+----------+\n",
      "|  2 | Dana         | White       |    75000 |\n",
      "+----+--------------+-------------+----------+\n"
     ]
    }
   ],
   "source": [
    "query3 = pd.read_sql_query('''\n",
    "SELECT first_name, last_name, salary\n",
    "FROM Employees\n",
    "WHERE salary > (SELECT AVG(salary) FROM Employees);\n",
    "''', conn)\n",
    "print(\"\\nEmployees with Salaries Above the Company Average:\")\n",
    "print(tabulate(query3, headers='keys', tablefmt='grid'))"
   ]
  },
  {
   "cell_type": "markdown",
   "id": "2c24ebad",
   "metadata": {},
   "source": [
    "## Scenario 4: Find employees who have completed specific training programs."
   ]
  },
  {
   "cell_type": "code",
   "execution_count": 74,
   "id": "1ee5f890",
   "metadata": {},
   "outputs": [
    {
     "name": "stdout",
     "output_type": "stream",
     "text": [
      "\n",
      "Employees Who Have Completed Specific Training Programs:\n",
      "+----+--------------+-------------+---------------------+\n",
      "|    | first_name   | last_name   | training_program    |\n",
      "+====+==============+=============+=====================+\n",
      "|  0 | John         | Doe         | Leadership Training |\n",
      "+----+--------------+-------------+---------------------+\n",
      "|  1 | Jane         | Smith       | Advanced Python     |\n",
      "+----+--------------+-------------+---------------------+\n",
      "|  2 | Bob          | Williams    | Digital Marketing   |\n",
      "+----+--------------+-------------+---------------------+\n",
      "|  3 | Charlie      | Brown       | Sales Techniques    |\n",
      "+----+--------------+-------------+---------------------+\n"
     ]
    }
   ],
   "source": [
    "query4 = pd.read_sql_query('''\n",
    "SELECT e.first_name, e.last_name, t.training_program\n",
    "FROM Employees e\n",
    "JOIN Training t ON e.employee_id = t.employee_id\n",
    "WHERE t.completion_status = 'Completed';\n",
    "''', conn)\n",
    "print(\"\\nEmployees Who Have Completed Specific Training Programs:\")\n",
    "print(tabulate(query4, headers='keys', tablefmt='grid'))"
   ]
  },
  {
   "cell_type": "markdown",
   "id": "d97c7fb8",
   "metadata": {},
   "source": [
    "# Scenario 5: Determine the highest performance rating received by each employee.\n"
   ]
  },
  {
   "cell_type": "code",
   "execution_count": 75,
   "id": "a0ce3829",
   "metadata": {},
   "outputs": [
    {
     "name": "stdout",
     "output_type": "stream",
     "text": [
      "\n",
      "Highest Performance Rating Received by Each Employee:\n",
      "+----+---------------+------------------+\n",
      "|    |   employee_id |   highest_rating |\n",
      "+====+===============+==================+\n",
      "|  0 |             1 |                4 |\n",
      "+----+---------------+------------------+\n",
      "|  1 |             2 |                5 |\n",
      "+----+---------------+------------------+\n",
      "|  2 |             3 |                3 |\n",
      "+----+---------------+------------------+\n",
      "|  3 |             4 |                4 |\n",
      "+----+---------------+------------------+\n",
      "|  4 |             5 |                3 |\n",
      "+----+---------------+------------------+\n",
      "|  5 |             6 |                5 |\n",
      "+----+---------------+------------------+\n"
     ]
    }
   ],
   "source": [
    "query5 = pd.read_sql_query('''\n",
    "SELECT employee_id, MAX(performance_rating) AS highest_rating\n",
    "FROM PerformanceReviews\n",
    "GROUP BY employee_id;\n",
    "''', conn)\n",
    "print(\"\\nHighest Performance Rating Received by Each Employee:\")\n",
    "print(tabulate(query5, headers='keys', tablefmt='grid'))\n",
    "\n",
    "# Close connection\n",
    "conn.close()"
   ]
  },
  {
   "cell_type": "markdown",
   "id": "19bd89b6",
   "metadata": {},
   "source": [
    "# 5. Website Analytics EDA"
   ]
  },
  {
   "cell_type": "code",
   "execution_count": 76,
   "id": "0ca2d04d",
   "metadata": {},
   "outputs": [],
   "source": [
    "# Connect to SQLite database\n",
    "conn = sqlite3.connect('analytics.db')"
   ]
  },
  {
   "cell_type": "markdown",
   "id": "1f00d620",
   "metadata": {},
   "source": [
    "# Scenario 1: Identify the most visited pages on the website"
   ]
  },
  {
   "cell_type": "code",
   "execution_count": 77,
   "id": "52e661d4",
   "metadata": {},
   "outputs": [
    {
     "name": "stdout",
     "output_type": "stream",
     "text": [
      "\n",
      "Most Visited Pages:\n",
      "+----+---------------+---------------+\n",
      "|    | page_viewed   |   visit_count |\n",
      "+====+===============+===============+\n",
      "|  0 | Home          |             2 |\n",
      "+----+---------------+---------------+\n",
      "|  1 | Services      |             1 |\n",
      "+----+---------------+---------------+\n",
      "|  2 | Contact       |             1 |\n",
      "+----+---------------+---------------+\n",
      "|  3 | Blog          |             1 |\n",
      "+----+---------------+---------------+\n",
      "|  4 | About         |             1 |\n",
      "+----+---------------+---------------+\n"
     ]
    }
   ],
   "source": [
    "query1 = pd.read_sql_query('''\n",
    "SELECT page_viewed, COUNT(*) AS visit_count\n",
    "FROM WebsiteVisits\n",
    "GROUP BY page_viewed\n",
    "ORDER BY visit_count DESC;\n",
    "''', conn)\n",
    "print(\"\\nMost Visited Pages:\")\n",
    "print(tabulate(query1, headers='keys', tablefmt='grid'))"
   ]
  },
  {
   "cell_type": "markdown",
   "id": "847f0af4",
   "metadata": {},
   "source": [
    "### Scenario 2: Calculate the average session duration for each page."
   ]
  },
  {
   "cell_type": "code",
   "execution_count": 78,
   "id": "4d8aaf80",
   "metadata": {},
   "outputs": [
    {
     "name": "stdout",
     "output_type": "stream",
     "text": [
      "\n",
      "Average Session Duration for Each Page:\n",
      "+----+----------+------------------------+\n",
      "|    | page     |   avg_session_duration |\n",
      "+====+==========+========================+\n",
      "|  0 | About    |                     90 |\n",
      "+----+----------+------------------------+\n",
      "|  1 | Blog     |                    100 |\n",
      "+----+----------+------------------------+\n",
      "|  2 | Contact  |                    110 |\n",
      "+----+----------+------------------------+\n",
      "|  3 | Home     |                    135 |\n",
      "+----+----------+------------------------+\n",
      "|  4 | Services |                     80 |\n",
      "+----+----------+------------------------+\n"
     ]
    }
   ],
   "source": [
    "query2 = pd.read_sql_query('''\n",
    "SELECT page, AVG(session_duration) AS avg_session_duration\n",
    "FROM PageVisits\n",
    "GROUP BY page;\n",
    "''', conn)\n",
    "print(\"\\nAverage Session Duration for Each Page:\")\n",
    "print(tabulate(query2, headers='keys', tablefmt='grid'))"
   ]
  },
  {
   "cell_type": "markdown",
   "id": "6ed34fb3",
   "metadata": {},
   "source": [
    "## Scenario 3: Find the conversion rate for each marketing campaign."
   ]
  },
  {
   "cell_type": "code",
   "execution_count": 80,
   "id": "61b2c4d8",
   "metadata": {},
   "outputs": [
    {
     "name": "stdout",
     "output_type": "stream",
     "text": [
      "\n",
      "Conversion Rate for Each Marketing Campaign:\n",
      "+----+-----------------+-------------------+\n",
      "|    | campaign_name   |   conversion_rate |\n",
      "+====+=================+===================+\n",
      "|  0 | Campaign 1      |                 1 |\n",
      "+----+-----------------+-------------------+\n",
      "|  1 | Campaign 2      |                 0 |\n",
      "+----+-----------------+-------------------+\n",
      "|  2 | Campaign 3      |                 1 |\n",
      "+----+-----------------+-------------------+\n",
      "|  3 | Campaign 4      |                 0 |\n",
      "+----+-----------------+-------------------+\n",
      "|  4 | Campaign 5      |                 1 |\n",
      "+----+-----------------+-------------------+\n",
      "|  5 | Campaign 6      |                 0 |\n",
      "+----+-----------------+-------------------+\n"
     ]
    }
   ],
   "source": [
    "query3 = pd.read_sql_query('''\n",
    "SELECT campaign_name, (SUM(converted) * 1.0 / COUNT(*)) AS conversion_rate\n",
    "FROM Campaigns\n",
    "GROUP BY campaign_name;\n",
    "''', conn)\n",
    "print(\"\\nConversion Rate for Each Marketing Campaign:\")\n",
    "print(tabulate(query3, headers='keys', tablefmt='grid'))"
   ]
  },
  {
   "cell_type": "markdown",
   "id": "6162dc7b",
   "metadata": {},
   "source": [
    "### Scenario 4: Determine the bounce rate for each page."
   ]
  },
  {
   "cell_type": "code",
   "execution_count": 81,
   "id": "79f4000c",
   "metadata": {},
   "outputs": [
    {
     "name": "stdout",
     "output_type": "stream",
     "text": [
      "\n",
      "Bounce Rate for Each Page:\n",
      "+----+----------+---------------+\n",
      "|    | page     |   bounce_rate |\n",
      "+====+==========+===============+\n",
      "|  0 | About    |             0 |\n",
      "+----+----------+---------------+\n",
      "|  1 | Blog     |             0 |\n",
      "+----+----------+---------------+\n",
      "|  2 | Contact  |             0 |\n",
      "+----+----------+---------------+\n",
      "|  3 | Home     |             0 |\n",
      "+----+----------+---------------+\n",
      "|  4 | Services |             0 |\n",
      "+----+----------+---------------+\n"
     ]
    }
   ],
   "source": [
    "query4 = pd.read_sql_query('''\n",
    "SELECT page, (SUM(CASE WHEN session_duration < 30 THEN 1 ELSE 0 END) * 1.0 / COUNT(*)) AS bounce_rate\n",
    "FROM PageVisits\n",
    "GROUP BY page;\n",
    "''', conn)\n",
    "print(\"\\nBounce Rate for Each Page:\")\n",
    "print(tabulate(query4, headers='keys', tablefmt='grid'))"
   ]
  },
  {
   "cell_type": "markdown",
   "id": "03ae66b3",
   "metadata": {},
   "source": [
    "### Scenario 5: List the top referrers bringing traffic to the website."
   ]
  },
  {
   "cell_type": "code",
   "execution_count": 83,
   "id": "8a60544e",
   "metadata": {},
   "outputs": [
    {
     "name": "stdout",
     "output_type": "stream",
     "text": [
      "\n",
      "Top Referrers Bringing Traffic to the Website:\n",
      "+----+------------+---------------+\n",
      "|    | referrer   |   visit_count |\n",
      "+====+============+===============+\n",
      "|  0 | Google     |             2 |\n",
      "+----+------------+---------------+\n",
      "|  1 | Twitter    |             1 |\n",
      "+----+------------+---------------+\n",
      "|  2 | LinkedIn   |             1 |\n",
      "+----+------------+---------------+\n",
      "|  3 | Facebook   |             1 |\n",
      "+----+------------+---------------+\n",
      "|  4 | Direct     |             1 |\n",
      "+----+------------+---------------+\n"
     ]
    }
   ],
   "source": [
    "query5 = pd.read_sql_query('''\n",
    "SELECT referrer, COUNT(*) AS visit_count\n",
    "FROM WebsiteVisits\n",
    "GROUP BY referrer\n",
    "ORDER BY visit_count DESC;\n",
    "''', conn)\n",
    "print(\"\\nTop Referrers Bringing Traffic to the Website:\")\n",
    "print(tabulate(query5, headers='keys', tablefmt='grid'))\n",
    "\n",
    "# Close connection\n",
    "conn.close()"
   ]
  },
  {
   "cell_type": "markdown",
   "id": "09549e8f-61b8-4732-80e8-6e32fdcd0b24",
   "metadata": {},
   "source": [
    "### Conclusion\n",
    "This project demonstrated how SQL, in combination with Python in a Jupyter Notebook, can be effectively used to manage, analyze, and visualize data for various business divisions within a fictional company, TechCorp. Throughout the project, we built databases for Customer Relationship Management (CRM), Inventory Management (IM), Financial Reporting (FR), Human Resources Management (HRM), and Website Analytics (WA), each comprising multiple tables. We then performed exploratory data analysis (EDA) to extract meaningful insights and addressed specific scenario-based questions relevant to each business division.\n",
    "\n",
    "The followings are the key takeaways from each section:\n",
    "\n",
    "- Customer Relationship Management (CRM):\n",
    "\n",
    "We identified customers with the highest number of interactions and highest total purchase amounts, helping pinpoint top-performing customers.\n",
    "Insights into customer behavior and interaction patterns can guide personalized marketing strategies.\n",
    "- Inventory Management (IM):\n",
    "\n",
    "We analyzed stock levels and sales data, identifying best-selling products and low-stock items. This is essential for ensuring efficient inventory management and avoiding stock shortages.\n",
    "By monitoring product sales trends, businesses can make informed decisions regarding production and restocking.\n",
    "- Financial Reporting (FR):\n",
    "\n",
    "Analysis of revenue, expenses, and net income over time revealed positive financial growth for TechCorp, with revenue consistently outpacing expenses.\n",
    "A comparison of budgeted vs. actual expenses helped track financial performance, highlighting variances that require attention.\n",
    "Human Resources Management (HRM):\n",
    "\n",
    "Salary distribution and performance review data provided insights into employee compensation and performance across different departments.\n",
    "Identifying employees who completed specific training programs is valuable for tracking employee development and planning future training initiatives.\n",
    "- Website Analytics (WA):\n",
    "\n",
    "Session duration and bounce rate analysis helped assess user engagement across various website pages. High bounce rates on the Contact and Blog pages suggest opportunities for improving user retention and engagement.\n",
    "Understanding how users interact with the website can lead to improvements in the user experience, helping increase engagement and conversion rates.\n",
    "### Project Significance:\n",
    "The ability to use SQL to manage and query databases, coupled with Python’s powerful visualization libraries, allows businesses to analyze their operations more effectively. By performing comprehensive data analysis, companies can make data-driven decisions, improve customer engagement, optimize inventory, track financial health, and ensure efficient resource management.\n",
    "\n",
    "### Recommendations:\n",
    "- Customer Segmentation: Use insights from CRM data to develop personalized marketing strategies for different customer segments based on their purchase behavior and interaction history.\n",
    "- Inventory Management: Optimize stock replenishment and manage production based on the sales data and low-stock product identification to avoid stockouts and overproduction.\n",
    "Financial Planning: Continue to track actual vs. budgeted expenses regularly to maintain financial discipline and adjust budgets when needed.\n",
    "- HR Analytics: Enhance employee training programs by identifying skill gaps based on performance reviews and training completion data.\n",
    "- Website Optimization: Investigate and address the reasons behind high bounce rates on the Contact and Blog pages to enhance user retention and overall site engagement.\n",
    "  \n",
    "This project demonstrated the value of SQL as a critical tool for business analytics and decision-making. By implementing similar data management and analysis processes, businesses can improve efficiency, optimize operations, and enhance overall performance."
   ]
  },
  {
   "cell_type": "code",
   "execution_count": null,
   "id": "4a35ea6f-ccf4-48d0-9a4f-defb92bc2c50",
   "metadata": {},
   "outputs": [],
   "source": []
  }
 ],
 "metadata": {
  "kernelspec": {
   "display_name": "Python 3 (ipykernel)",
   "language": "python",
   "name": "python3"
  },
  "language_info": {
   "codemirror_mode": {
    "name": "ipython",
    "version": 3
   },
   "file_extension": ".py",
   "mimetype": "text/x-python",
   "name": "python",
   "nbconvert_exporter": "python",
   "pygments_lexer": "ipython3",
   "version": "3.8.8"
  }
 },
 "nbformat": 4,
 "nbformat_minor": 5
}
